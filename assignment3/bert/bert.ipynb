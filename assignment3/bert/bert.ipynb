{
 "cells": [
  {
   "cell_type": "code",
   "execution_count": 2,
   "metadata": {},
   "outputs": [
    {
     "name": "stderr",
     "output_type": "stream",
     "text": [
      "/home/konstfed/miniconda3/envs/torch/lib/python3.11/site-packages/tqdm/auto.py:21: TqdmWarning: IProgress not found. Please update jupyter and ipywidgets. See https://ipywidgets.readthedocs.io/en/stable/user_install.html\n",
      "  from .autonotebook import tqdm as notebook_tqdm\n"
     ]
    }
   ],
   "source": [
    "import random\n",
    "import re\n",
    "\n",
    "import pandas as pd\n",
    "import torch\n",
    "\n",
    "from collections import defaultdict\n",
    "\n",
    "from nltk.stem.snowball import SnowballStemmer\n",
    "from sklearn.model_selection import train_test_split\n",
    "from transformers import BertTokenizer, BertModel\n",
    "from tqdm import trange, tqdm"
   ]
  },
  {
   "cell_type": "code",
   "execution_count": 3,
   "metadata": {},
   "outputs": [],
   "source": [
    "ENTITIES = ['PERSON',\n",
    " 'PROFESSION',\n",
    " 'ORGANIZATION',\n",
    " 'EVENT',\n",
    " 'DATE',\n",
    " 'COUNTRY',\n",
    " 'CITY',\n",
    " 'NUMBER',\n",
    " 'AGE',\n",
    " 'ORDINAL',\n",
    " 'NATIONALITY',\n",
    " 'FACILITY',\n",
    " 'STATE_OR_PROVINCE',\n",
    " 'LAW',\n",
    " 'AWARD',\n",
    " 'LOCATION',\n",
    " 'IDEOLOGY',\n",
    " 'WORK_OF_ART',\n",
    " 'PRODUCT',\n",
    " 'CRIME',\n",
    " 'DISEASE',\n",
    " 'TIME',\n",
    " 'MONEY',\n",
    " 'DISTRICT',\n",
    " 'PENALTY',\n",
    " 'RELIGION',\n",
    " 'PERCENT',\n",
    " 'LANGUAGE',\n",
    " 'FAMILY']"
   ]
  },
  {
   "cell_type": "code",
   "execution_count": 4,
   "metadata": {},
   "outputs": [
    {
     "data": {
      "text/html": [
       "<div>\n",
       "<style scoped>\n",
       "    .dataframe tbody tr th:only-of-type {\n",
       "        vertical-align: middle;\n",
       "    }\n",
       "\n",
       "    .dataframe tbody tr th {\n",
       "        vertical-align: top;\n",
       "    }\n",
       "\n",
       "    .dataframe thead th {\n",
       "        text-align: right;\n",
       "    }\n",
       "</style>\n",
       "<table border=\"1\" class=\"dataframe\">\n",
       "  <thead>\n",
       "    <tr style=\"text-align: right;\">\n",
       "      <th></th>\n",
       "      <th>ners</th>\n",
       "      <th>sentences</th>\n",
       "      <th>id</th>\n",
       "    </tr>\n",
       "  </thead>\n",
       "  <tbody>\n",
       "    <tr>\n",
       "      <th>0</th>\n",
       "      <td>[[0, 5, CITY], [16, 23, PERSON], [34, 41, PERS...</td>\n",
       "      <td>Бостон взорвали Тамерлан и Джохар Царнаевы из ...</td>\n",
       "      <td>0</td>\n",
       "    </tr>\n",
       "    <tr>\n",
       "      <th>1</th>\n",
       "      <td>[[21, 28, PROFESSION], [53, 67, ORGANIZATION],...</td>\n",
       "      <td>Умер избитый до комы гитарист и сооснователь г...</td>\n",
       "      <td>1</td>\n",
       "    </tr>\n",
       "    <tr>\n",
       "      <th>2</th>\n",
       "      <td>[[0, 4, PERSON], [37, 42, COUNTRY], [47, 76, O...</td>\n",
       "      <td>Путин подписал распоряжение о выходе России из...</td>\n",
       "      <td>2</td>\n",
       "    </tr>\n",
       "    <tr>\n",
       "      <th>3</th>\n",
       "      <td>[[0, 11, PERSON], [36, 47, PROFESSION], [49, 6...</td>\n",
       "      <td>Бенедикт XVI носил кардиостимулятор\\nПапа Римс...</td>\n",
       "      <td>3</td>\n",
       "    </tr>\n",
       "    <tr>\n",
       "      <th>4</th>\n",
       "      <td>[[0, 4, PERSON], [17, 29, ORGANIZATION], [48, ...</td>\n",
       "      <td>Обама назначит в Верховный суд латиноамериканк...</td>\n",
       "      <td>4</td>\n",
       "    </tr>\n",
       "    <tr>\n",
       "      <th>...</th>\n",
       "      <td>...</td>\n",
       "      <td>...</td>\n",
       "      <td>...</td>\n",
       "    </tr>\n",
       "    <tr>\n",
       "      <th>514</th>\n",
       "      <td>[[42, 46, COUNTRY], [82, 87, COUNTRY], [104, 1...</td>\n",
       "      <td>Глава Малайзии: мы не хотим противостоять Кита...</td>\n",
       "      <td>514</td>\n",
       "    </tr>\n",
       "    <tr>\n",
       "      <th>515</th>\n",
       "      <td>[[1, 4, PRODUCT], [31, 33, FACILITY], [35, 44,...</td>\n",
       "      <td>«Союз» впервые пристыковался к МКС за 6 часов\\...</td>\n",
       "      <td>515</td>\n",
       "    </tr>\n",
       "    <tr>\n",
       "      <th>516</th>\n",
       "      <td>[[0, 4, PERSON], [8, 12, PERSON], [45, 52, AGE...</td>\n",
       "      <td>Трамп и Путин сделали совместное заявление к 7...</td>\n",
       "      <td>516</td>\n",
       "    </tr>\n",
       "    <tr>\n",
       "      <th>517</th>\n",
       "      <td>[[0, 9, NATIONALITY], [58, 72, PERSON], [101, ...</td>\n",
       "      <td>Российский магнат устроил самую дорогую свадьб...</td>\n",
       "      <td>517</td>\n",
       "    </tr>\n",
       "    <tr>\n",
       "      <th>518</th>\n",
       "      <td>[[0, 4, PERSON], [16, 25, PROFESSION], [27, 38...</td>\n",
       "      <td>Трамп поздравил астронавта Пегги Уитсон с уста...</td>\n",
       "      <td>518</td>\n",
       "    </tr>\n",
       "  </tbody>\n",
       "</table>\n",
       "<p>519 rows × 3 columns</p>\n",
       "</div>"
      ],
      "text/plain": [
       "                                                  ners  \\\n",
       "0    [[0, 5, CITY], [16, 23, PERSON], [34, 41, PERS...   \n",
       "1    [[21, 28, PROFESSION], [53, 67, ORGANIZATION],...   \n",
       "2    [[0, 4, PERSON], [37, 42, COUNTRY], [47, 76, O...   \n",
       "3    [[0, 11, PERSON], [36, 47, PROFESSION], [49, 6...   \n",
       "4    [[0, 4, PERSON], [17, 29, ORGANIZATION], [48, ...   \n",
       "..                                                 ...   \n",
       "514  [[42, 46, COUNTRY], [82, 87, COUNTRY], [104, 1...   \n",
       "515  [[1, 4, PRODUCT], [31, 33, FACILITY], [35, 44,...   \n",
       "516  [[0, 4, PERSON], [8, 12, PERSON], [45, 52, AGE...   \n",
       "517  [[0, 9, NATIONALITY], [58, 72, PERSON], [101, ...   \n",
       "518  [[0, 4, PERSON], [16, 25, PROFESSION], [27, 38...   \n",
       "\n",
       "                                             sentences   id  \n",
       "0    Бостон взорвали Тамерлан и Джохар Царнаевы из ...    0  \n",
       "1    Умер избитый до комы гитарист и сооснователь г...    1  \n",
       "2    Путин подписал распоряжение о выходе России из...    2  \n",
       "3    Бенедикт XVI носил кардиостимулятор\\nПапа Римс...    3  \n",
       "4    Обама назначит в Верховный суд латиноамериканк...    4  \n",
       "..                                                 ...  ...  \n",
       "514  Глава Малайзии: мы не хотим противостоять Кита...  514  \n",
       "515  «Союз» впервые пристыковался к МКС за 6 часов\\...  515  \n",
       "516  Трамп и Путин сделали совместное заявление к 7...  516  \n",
       "517  Российский магнат устроил самую дорогую свадьб...  517  \n",
       "518  Трамп поздравил астронавта Пегги Уитсон с уста...  518  \n",
       "\n",
       "[519 rows x 3 columns]"
      ]
     },
     "execution_count": 4,
     "metadata": {},
     "output_type": "execute_result"
    }
   ],
   "source": [
    "train_json = pd.read_json(\"../data/public_dat/train.jsonl\", lines=True)\n",
    "train_json"
   ]
  },
  {
   "cell_type": "code",
   "execution_count": 5,
   "metadata": {},
   "outputs": [
    {
     "name": "stdout",
     "output_type": "stream",
     "text": [
      "tensor([[  101,  1997,  3815, 29955, 12715,     0,   102]])\n",
      "[CLS] что то Тут написал [PAD] [SEP]\n",
      "что то Тут написал\n"
     ]
    }
   ],
   "source": [
    "tokenizer = BertTokenizer.from_pretrained(\"DeepPavlov/rubert-base-cased\")\n",
    "print(tokenizer.encode(\"что то Тут написал [PAD]\", add_special_tokens=True, return_tensors='pt'))\n",
    "print(tokenizer.decode([101, 1997, 3815, 29955, 12715,0, 102]))\n",
    "print(tokenizer.decode([1997, 3815, 29955, 12715]))"
   ]
  },
  {
   "cell_type": "code",
   "execution_count": 6,
   "metadata": {},
   "outputs": [],
   "source": [
    "def _split_long_seq(\n",
    "    input_ids,\n",
    "    labels,\n",
    "    max_length: int,\n",
    "    cls_id: int = 101,\n",
    "    sep_id: int = 102,\n",
    "    pad_id: int = 0,\n",
    ") -> tuple[torch.Tensor, list[str]]:\n",
    "    labels = labels[1:-1]\n",
    "    input_ids = input_ids[:, 1:-1]  # remove special tokens from beginning and end\n",
    "    new_input_ids = []\n",
    "    new_labels = []\n",
    "    for i in range(0, input_ids.shape[1], max_length - 2):\n",
    "        ids = input_ids[:, i : min(i + max_length - 2, input_ids.shape[1])]\n",
    "        c_ids = torch.zeros((ids.shape[0], max_length), dtype=torch.long).type(torch.LongTensor)\n",
    "        c_ids[:, 0] = cls_id\n",
    "        c_ids[:, 1:1 + ids.shape[1]]\n",
    "        c_ids[:, 1 + ids.shape[1]] = sep_id\n",
    "        c_ids[:, 2 + ids.shape[1]: ] = pad_id\n",
    " \n",
    "        c_labels = (\n",
    "            [\"[CLS]\"]\n",
    "            + labels[i : min(i + max_length - 2, input_ids.shape[0])]\n",
    "            + [\"[SEP]\"]\n",
    "        )\n",
    "        new_input_ids.append(c_ids)\n",
    "        new_labels.append(c_labels)\n",
    "\n",
    "    return new_input_ids, new_labels"
   ]
  },
  {
   "cell_type": "code",
   "execution_count": 30,
   "metadata": {},
   "outputs": [],
   "source": [
    "\n",
    "from torch import nn\n",
    "import torch.utils\n",
    "import torch.utils.data\n",
    "\n",
    "\n",
    "def _get_unique_entities_seq(entities: list[str], labels: list[str]) -> dict:\n",
    "    was = set()\n",
    "    for l in labels:\n",
    "        if l in entities:\n",
    "            was.add(l)\n",
    "    \n",
    "    new_labels = {}\n",
    "    for ent in was:\n",
    "        c_seq = []\n",
    "        for i in range(len(labels)):\n",
    "            if labels[i] == ent:\n",
    "                c_seq.append(1)\n",
    "            else:\n",
    "                c_seq.append(0)\n",
    "        new_labels[ent] = c_seq\n",
    "    return new_labels\n",
    "\n",
    "class NestedNERDataset(torch.utils.data.Dataset):\n",
    "    def __init__(self, df: pd.DataFrame, entities: list[str]):\n",
    "        self.df = df\n",
    "        self.entities = entities\n",
    "        self.tokenizer = BertTokenizer.from_pretrained(\"DeepPavlov/rubert-base-cased\")\n",
    "        self.bert_model = BertModel.from_pretrained(\"DeepPavlov/rubert-base-cased\")\n",
    "        self.tokenized_ds = []\n",
    "        self.tokenized_per_entity = []\n",
    "        self._tokenize_per_class()\n",
    "        self._get_word_embds()\n",
    "\n",
    "    def _tokenize_per_class(self):\n",
    "        # for ent in self.entities:\n",
    "        #     self.tokenized_per_entity.append([])\n",
    "\n",
    "        for _, data in tqdm(self.df.iterrows(), total=self.df.shape[0]):\n",
    "            sentence = data[\"sentences\"]\n",
    "            ners = data[\"ners\"]\n",
    "            tokenized_sentence = self.tokenizer.tokenize(sentence)\n",
    "            # print(\"\\n\")\n",
    "            # print(tokenized_sentence)\n",
    "            tokenized_length = len(tokenized_sentence)\n",
    "\n",
    "            tokens = []\n",
    "            labels = []\n",
    "\n",
    "            for _ in range(tokenized_length):\n",
    "                labels.append(\"O\")  # \"O\" represents tokens outside entities\n",
    "\n",
    "            for start, end, label in ners:\n",
    "                # Convert character-level annotations to token-level\n",
    "                start_token = self.tokenizer.encode(\n",
    "                    sentence[:start], add_special_tokens=False\n",
    "                )\n",
    "                end_token = self.tokenizer.encode(\n",
    "                    sentence[: end + 1], add_special_tokens=False\n",
    "                )\n",
    "                # print(sentence[start:end+1], \":\", len(start_token), len(end_token), \"-->\", len(labels))\n",
    "                # Update labels for tokens within the entity span\n",
    "                for i in range(len(start_token), len(end_token)):\n",
    "                    labels[i] = label\n",
    "\n",
    "            labels = [\"[CLS]\"] + labels + [\"[SEP]\"]\n",
    "            input_ids = self.tokenizer.encode(\n",
    "                tokenized_sentence,\n",
    "                add_special_tokens=True,\n",
    "                return_tensors=\"pt\",\n",
    "                padding=\"max_length\",\n",
    "                max_length=512,\n",
    "            )\n",
    "            if input_ids.shape[1] > 512:\n",
    "                # print(\"WAS\", input_ids.shape)\n",
    "                input_ids, labels = _split_long_seq(input_ids, labels, 512)\n",
    "                for i in range(len(labels)):\n",
    "                    # print(input_ids[i].shape)\n",
    "                    self.tokenized_ds.append(\n",
    "                        {\n",
    "                            \"input_ids\": input_ids[i],\n",
    "                            \"attention_mask\": torch.ones_like(input_ids[i]),\n",
    "                            \"labels\": labels[i]\n",
    "                        }\n",
    "                    )\n",
    "            else:\n",
    "                attention_mask = torch.ones_like(input_ids)\n",
    "                self.tokenized_ds.append(\n",
    "                    {\n",
    "                        \"input_ids\": input_ids,\n",
    "                        \"attention_mask\": attention_mask,\n",
    "                        \"labels\": labels,\n",
    "                    }\n",
    "                )\n",
    "\n",
    "    def _get_word_embds(self, batch_size: int = 4):\n",
    "        # all_tokens = pass\n",
    "        all_tokens = [x[\"input_ids\"] for x in self.tokenized_ds]\n",
    "        attention_masks = [x[\"attention_mask\"] for x in self.tokenized_ds]\n",
    "        all_labels = [x[\"labels\"] for x in self.tokenized_ds]\n",
    "        \n",
    "        ds = {x:([], []) for x in self.entities}\n",
    "        \n",
    "        with torch.no_grad():\n",
    "            for i in trange(0, len(all_tokens), batch_size):\n",
    "                # print([x.shape for x in all_tokens[i : min(i + batch_size, len(all_tokens))]])\n",
    "                end_idx = min(i + batch_size, len(all_tokens))\n",
    "                input_ids = torch.cat(\n",
    "                    all_tokens[i :end_idx]\n",
    "                )\n",
    "                att_mask = torch.cat(\n",
    "                    attention_masks[i : end_idx]\n",
    "                )\n",
    "                labels = all_labels[i : end_idx]\n",
    "                outputs = self.bert_model(input_ids, attention_mask=att_mask)\n",
    "                word_embeddings = outputs.last_hidden_state\n",
    "                \n",
    "                word_embeddings = word_embeddings[:, 1:-1]\n",
    "    \n",
    "                for j in range(len(labels)):\n",
    "                    seqs = _get_unique_entities_seq(self.entities, labels[j][1:-1])\n",
    "                    for ent_name in seqs:\n",
    "                        # sequence labels\n",
    "                        for k in range(len(seqs[ent_name])):\n",
    "                            # ds[ent_name][1].append(seqs[ent_name][k])\n",
    "                            if seqs[ent_name][k] == 0:\n",
    "                                ds[ent_name][0].append(word_embeddings[j][k])\n",
    "                            else:\n",
    "                                ds[ent_name][1].append(word_embeddings[j][k])\n",
    "\n",
    "        self.per_entity = {}\n",
    "        for ent in ds:\n",
    "            negative_words, positive_samples = ds[ent]\n",
    "            if len(negative_words) == 0 or len(positive_samples) == 0:\n",
    "                print(ent, \"does have problems\")\n",
    "                continue\n",
    "            \n",
    "            negative_words = torch.stack(negative_words)\n",
    "            positive_samples = torch.stack(positive_samples)\n",
    "            negative_words = negative_words[torch.randperm(negative_words.shape[0])]\n",
    "            \n",
    "            negative_words = negative_words[:positive_samples.shape[0]]\n",
    "            \n",
    "            c_labels = torch.cat([torch.ones(positive_samples.shape[0]), torch.zeros(positive_samples.shape[0])])\n",
    "            c_word_embds = torch.cat([positive_samples, negative_words])\n",
    "            self.per_entity[ent] = torch.utils.data.TensorDataset(c_word_embds, c_labels)"
   ]
  },
  {
   "cell_type": "code",
   "execution_count": 31,
   "metadata": {},
   "outputs": [
    {
     "name": "stderr",
     "output_type": "stream",
     "text": [
      "Some weights of the model checkpoint at DeepPavlov/rubert-base-cased were not used when initializing BertModel: ['cls.predictions.bias', 'cls.predictions.decoder.bias', 'cls.predictions.decoder.weight', 'cls.predictions.transform.LayerNorm.bias', 'cls.predictions.transform.LayerNorm.weight', 'cls.predictions.transform.dense.bias', 'cls.predictions.transform.dense.weight', 'cls.seq_relationship.bias', 'cls.seq_relationship.weight']\n",
      "- This IS expected if you are initializing BertModel from the checkpoint of a model trained on another task or with another architecture (e.g. initializing a BertForSequenceClassification model from a BertForPreTraining model).\n",
      "- This IS NOT expected if you are initializing BertModel from the checkpoint of a model that you expect to be exactly identical (initializing a BertForSequenceClassification model from a BertForSequenceClassification model).\n",
      "100%|██████████| 519/519 [01:14<00:00,  7.01it/s]\n",
      "100%|██████████| 135/135 [05:00<00:00,  2.23s/it]\n"
     ]
    }
   ],
   "source": [
    "ds = NestedNERDataset(train_json, ENTITIES)\n",
    "# ds.tokenized_ds[0]"
   ]
  },
  {
   "cell_type": "code",
   "execution_count": 33,
   "metadata": {},
   "outputs": [],
   "source": [
    "class SimpleModel(nn.Module):\n",
    "    def __init__(self, emb_dim: int, *args, **kwargs) -> None:\n",
    "        super().__init__(*args, **kwargs)\n",
    "        self.cls = nn.Sequential(\n",
    "            nn.Linear(emb_dim, 100),\n",
    "            nn.ReLU(),\n",
    "            nn.Linear(100, 1),\n",
    "            nn.Sigmoid()\n",
    "        )\n",
    "    \n",
    "    def forward(self, x):\n",
    "        return self.cls.forward(x)"
   ]
  },
  {
   "cell_type": "code",
   "execution_count": 40,
   "metadata": {},
   "outputs": [],
   "source": [
    "from sklearn.metrics import classification_report\n",
    "\n",
    "def train_one_epoch(model: nn.Module, optimizer: torch.optim.Optimizer, loss, train_loader):\n",
    "    model.train()\n",
    "    avg_loss = 0\n",
    "    cnt = 0\n",
    "    bar = tqdm(train_loader)\n",
    "    for x, label in bar:\n",
    "        optimizer.zero_grad()\n",
    "        out = model(x)\n",
    "        l = loss(out.flatten(), label.flatten())\n",
    "        l.backward()\n",
    "        avg_loss = (avg_loss * cnt + l.cpu().item()) / (cnt + 1)\n",
    "        cnt += 1\n",
    "        bar.set_postfix({\"avg. loss\": avg_loss})\n",
    "        optimizer.step()\n",
    "        \n",
    "def test_epoch(model: nn.Module, loss, loader):\n",
    "    model.eval()\n",
    "    avg_loss = 0\n",
    "    cnt = 0\n",
    "    bar = tqdm(loader)\n",
    "    gt = []\n",
    "    pred = []\n",
    "    for x, label in bar:\n",
    "        out = model(x)\n",
    "        l = loss(out.flatten(), label.flatten())\n",
    "        avg_loss = (avg_loss * cnt + l.cpu().item()) / (cnt + 1)\n",
    "        cnt += 1\n",
    "        bar.set_postfix({\"avg. loss\": avg_loss})\n",
    "        \n",
    "        c_pred = out > 0.5\n",
    "        pred = pred + c_pred.cpu().detach().tolist()\n",
    "        gt = gt + label.cpu().detach().tolist()\n",
    "    \n",
    "    print(classification_report(gt, pred))\n",
    "\n",
    "def train(model: nn.Module, train_loader, test_loader, n_iter: int = 10):\n",
    "    optimizer = torch.optim.Adam(model.parameters())\n",
    "    loss = nn.BCELoss()\n",
    "    for i in range(n_iter):\n",
    "        print(f\"Epoch {i}:\")\n",
    "        train_one_epoch(model, optimizer, loss, train_loader)\n",
    "    print(\"On test:\")\n",
    "    test_epoch(model, loss, test_loader)\n",
    "    "
   ]
  },
  {
   "cell_type": "code",
   "execution_count": 43,
   "metadata": {},
   "outputs": [
    {
     "name": "stdout",
     "output_type": "stream",
     "text": [
      "Train PERSON\n",
      "Epoch 0:\n"
     ]
    },
    {
     "name": "stderr",
     "output_type": "stream",
     "text": [
      "100%|██████████| 971/971 [00:02<00:00, 438.44it/s, avg. loss=0.0694]\n"
     ]
    },
    {
     "name": "stdout",
     "output_type": "stream",
     "text": [
      "Epoch 1:\n"
     ]
    },
    {
     "name": "stderr",
     "output_type": "stream",
     "text": [
      "100%|██████████| 971/971 [00:02<00:00, 480.69it/s, avg. loss=0.0344]\n"
     ]
    },
    {
     "name": "stdout",
     "output_type": "stream",
     "text": [
      "Epoch 2:\n"
     ]
    },
    {
     "name": "stderr",
     "output_type": "stream",
     "text": [
      "100%|██████████| 971/971 [00:02<00:00, 483.40it/s, avg. loss=0.0227]\n"
     ]
    },
    {
     "name": "stdout",
     "output_type": "stream",
     "text": [
      "On test:\n"
     ]
    },
    {
     "name": "stderr",
     "output_type": "stream",
     "text": [
      "100%|██████████| 971/971 [00:01<00:00, 716.32it/s, avg. loss=0.0138]\n"
     ]
    },
    {
     "name": "stdout",
     "output_type": "stream",
     "text": [
      "              precision    recall  f1-score   support\n",
      "\n",
      "         0.0       1.00      0.99      1.00      9705\n",
      "         1.0       0.99      1.00      1.00      9702\n",
      "\n",
      "    accuracy                           1.00     19407\n",
      "   macro avg       1.00      1.00      1.00     19407\n",
      "weighted avg       1.00      1.00      1.00     19407\n",
      "\n",
      "Train PROFESSION\n",
      "Epoch 0:\n"
     ]
    },
    {
     "name": "stderr",
     "output_type": "stream",
     "text": [
      "100%|██████████| 548/548 [00:01<00:00, 477.70it/s, avg. loss=0.245]\n"
     ]
    },
    {
     "name": "stdout",
     "output_type": "stream",
     "text": [
      "Epoch 1:\n"
     ]
    },
    {
     "name": "stderr",
     "output_type": "stream",
     "text": [
      "100%|██████████| 548/548 [00:01<00:00, 370.01it/s, avg. loss=0.166]\n"
     ]
    },
    {
     "name": "stdout",
     "output_type": "stream",
     "text": [
      "Epoch 2:\n"
     ]
    },
    {
     "name": "stderr",
     "output_type": "stream",
     "text": [
      "100%|██████████| 548/548 [00:01<00:00, 393.38it/s, avg. loss=0.125]\n"
     ]
    },
    {
     "name": "stdout",
     "output_type": "stream",
     "text": [
      "On test:\n"
     ]
    },
    {
     "name": "stderr",
     "output_type": "stream",
     "text": [
      "100%|██████████| 548/548 [00:00<00:00, 846.72it/s, avg. loss=0.091] \n"
     ]
    },
    {
     "name": "stdout",
     "output_type": "stream",
     "text": [
      "              precision    recall  f1-score   support\n",
      "\n",
      "         0.0       0.96      0.97      0.97      5502\n",
      "         1.0       0.97      0.96      0.97      5455\n",
      "\n",
      "    accuracy                           0.97     10957\n",
      "   macro avg       0.97      0.97      0.97     10957\n",
      "weighted avg       0.97      0.97      0.97     10957\n",
      "\n",
      "Train ORGANIZATION\n",
      "Epoch 0:\n"
     ]
    },
    {
     "name": "stderr",
     "output_type": "stream",
     "text": [
      "100%|██████████| 500/500 [00:01<00:00, 438.21it/s, avg. loss=0.24] \n"
     ]
    },
    {
     "name": "stdout",
     "output_type": "stream",
     "text": [
      "Epoch 1:\n"
     ]
    },
    {
     "name": "stderr",
     "output_type": "stream",
     "text": [
      "100%|██████████| 500/500 [00:01<00:00, 480.00it/s, avg. loss=0.163]\n"
     ]
    },
    {
     "name": "stdout",
     "output_type": "stream",
     "text": [
      "Epoch 2:\n"
     ]
    },
    {
     "name": "stderr",
     "output_type": "stream",
     "text": [
      "100%|██████████| 500/500 [00:01<00:00, 468.87it/s, avg. loss=0.128]\n"
     ]
    },
    {
     "name": "stdout",
     "output_type": "stream",
     "text": [
      "On test:\n"
     ]
    },
    {
     "name": "stderr",
     "output_type": "stream",
     "text": [
      "100%|██████████| 500/500 [00:00<00:00, 835.34it/s, avg. loss=0.106]\n"
     ]
    },
    {
     "name": "stdout",
     "output_type": "stream",
     "text": [
      "              precision    recall  f1-score   support\n",
      "\n",
      "         0.0       0.99      0.93      0.96      4965\n",
      "         1.0       0.93      0.99      0.96      5031\n",
      "\n",
      "    accuracy                           0.96      9996\n",
      "   macro avg       0.96      0.96      0.96      9996\n",
      "weighted avg       0.96      0.96      0.96      9996\n",
      "\n",
      "Train EVENT\n",
      "Epoch 0:\n"
     ]
    },
    {
     "name": "stderr",
     "output_type": "stream",
     "text": [
      "100%|██████████| 459/459 [00:01<00:00, 452.73it/s, avg. loss=0.366]\n"
     ]
    },
    {
     "name": "stdout",
     "output_type": "stream",
     "text": [
      "Epoch 1:\n"
     ]
    },
    {
     "name": "stderr",
     "output_type": "stream",
     "text": [
      "100%|██████████| 459/459 [00:00<00:00, 464.09it/s, avg. loss=0.272]\n"
     ]
    },
    {
     "name": "stdout",
     "output_type": "stream",
     "text": [
      "Epoch 2:\n"
     ]
    },
    {
     "name": "stderr",
     "output_type": "stream",
     "text": [
      "100%|██████████| 459/459 [00:00<00:00, 491.21it/s, avg. loss=0.215]\n"
     ]
    },
    {
     "name": "stdout",
     "output_type": "stream",
     "text": [
      "On test:\n"
     ]
    },
    {
     "name": "stderr",
     "output_type": "stream",
     "text": [
      "100%|██████████| 459/459 [00:00<00:00, 755.55it/s, avg. loss=0.161]\n"
     ]
    },
    {
     "name": "stdout",
     "output_type": "stream",
     "text": [
      "              precision    recall  f1-score   support\n",
      "\n",
      "         0.0       0.95      0.93      0.94      4598\n",
      "         1.0       0.93      0.95      0.94      4577\n",
      "\n",
      "    accuracy                           0.94      9175\n",
      "   macro avg       0.94      0.94      0.94      9175\n",
      "weighted avg       0.94      0.94      0.94      9175\n",
      "\n",
      "Train DATE\n",
      "Epoch 0:\n"
     ]
    },
    {
     "name": "stderr",
     "output_type": "stream",
     "text": [
      "100%|██████████| 618/618 [00:01<00:00, 464.15it/s, avg. loss=0.098] \n"
     ]
    },
    {
     "name": "stdout",
     "output_type": "stream",
     "text": [
      "Epoch 1:\n"
     ]
    },
    {
     "name": "stderr",
     "output_type": "stream",
     "text": [
      "100%|██████████| 618/618 [00:01<00:00, 471.02it/s, avg. loss=0.0544]\n"
     ]
    },
    {
     "name": "stdout",
     "output_type": "stream",
     "text": [
      "Epoch 2:\n"
     ]
    },
    {
     "name": "stderr",
     "output_type": "stream",
     "text": [
      "100%|██████████| 618/618 [00:01<00:00, 468.11it/s, avg. loss=0.0375]\n"
     ]
    },
    {
     "name": "stdout",
     "output_type": "stream",
     "text": [
      "On test:\n"
     ]
    },
    {
     "name": "stderr",
     "output_type": "stream",
     "text": [
      "100%|██████████| 618/618 [00:00<00:00, 755.40it/s, avg. loss=0.0283]\n"
     ]
    },
    {
     "name": "stdout",
     "output_type": "stream",
     "text": [
      "              precision    recall  f1-score   support\n",
      "\n",
      "         0.0       0.99      0.99      0.99      6151\n",
      "         1.0       0.99      0.99      0.99      6192\n",
      "\n",
      "    accuracy                           0.99     12343\n",
      "   macro avg       0.99      0.99      0.99     12343\n",
      "weighted avg       0.99      0.99      0.99     12343\n",
      "\n",
      "Train COUNTRY\n",
      "Epoch 0:\n"
     ]
    },
    {
     "name": "stderr",
     "output_type": "stream",
     "text": [
      "100%|██████████| 155/155 [00:00<00:00, 460.15it/s, avg. loss=0.15] \n"
     ]
    },
    {
     "name": "stdout",
     "output_type": "stream",
     "text": [
      "Epoch 1:\n"
     ]
    },
    {
     "name": "stderr",
     "output_type": "stream",
     "text": [
      "100%|██████████| 155/155 [00:00<00:00, 440.45it/s, avg. loss=0.053] \n"
     ]
    },
    {
     "name": "stdout",
     "output_type": "stream",
     "text": [
      "Epoch 2:\n"
     ]
    },
    {
     "name": "stderr",
     "output_type": "stream",
     "text": [
      "100%|██████████| 155/155 [00:00<00:00, 402.77it/s, avg. loss=0.0334]\n"
     ]
    },
    {
     "name": "stdout",
     "output_type": "stream",
     "text": [
      "On test:\n"
     ]
    },
    {
     "name": "stderr",
     "output_type": "stream",
     "text": [
      "100%|██████████| 155/155 [00:00<00:00, 873.99it/s, avg. loss=0.0263]\n"
     ]
    },
    {
     "name": "stdout",
     "output_type": "stream",
     "text": [
      "              precision    recall  f1-score   support\n",
      "\n",
      "         0.0       1.00      0.98      0.99      1550\n",
      "         1.0       0.98      1.00      0.99      1546\n",
      "\n",
      "    accuracy                           0.99      3096\n",
      "   macro avg       0.99      0.99      0.99      3096\n",
      "weighted avg       0.99      0.99      0.99      3096\n",
      "\n",
      "Train CITY\n",
      "Epoch 0:\n"
     ]
    },
    {
     "name": "stderr",
     "output_type": "stream",
     "text": [
      "100%|██████████| 136/136 [00:00<00:00, 451.80it/s, avg. loss=0.192]\n"
     ]
    },
    {
     "name": "stdout",
     "output_type": "stream",
     "text": [
      "Epoch 1:\n"
     ]
    },
    {
     "name": "stderr",
     "output_type": "stream",
     "text": [
      "100%|██████████| 136/136 [00:00<00:00, 477.13it/s, avg. loss=0.0787]\n"
     ]
    },
    {
     "name": "stdout",
     "output_type": "stream",
     "text": [
      "Epoch 2:\n"
     ]
    },
    {
     "name": "stderr",
     "output_type": "stream",
     "text": [
      "100%|██████████| 136/136 [00:00<00:00, 463.01it/s, avg. loss=0.051]\n"
     ]
    },
    {
     "name": "stdout",
     "output_type": "stream",
     "text": [
      "On test:\n"
     ]
    },
    {
     "name": "stderr",
     "output_type": "stream",
     "text": [
      "100%|██████████| 136/136 [00:00<00:00, 631.21it/s, avg. loss=0.0256]\n"
     ]
    },
    {
     "name": "stdout",
     "output_type": "stream",
     "text": [
      "              precision    recall  f1-score   support\n",
      "\n",
      "         0.0       1.00      0.99      0.99      1350\n",
      "         1.0       0.99      1.00      0.99      1353\n",
      "\n",
      "    accuracy                           0.99      2703\n",
      "   macro avg       0.99      0.99      0.99      2703\n",
      "weighted avg       0.99      0.99      0.99      2703\n",
      "\n",
      "Train NUMBER\n",
      "Epoch 0:\n"
     ]
    },
    {
     "name": "stderr",
     "output_type": "stream",
     "text": [
      "100%|██████████| 106/106 [00:00<00:00, 453.38it/s, avg. loss=0.211]\n"
     ]
    },
    {
     "name": "stdout",
     "output_type": "stream",
     "text": [
      "Epoch 1:\n"
     ]
    },
    {
     "name": "stderr",
     "output_type": "stream",
     "text": [
      "100%|██████████| 106/106 [00:00<00:00, 454.68it/s, avg. loss=0.0708]\n"
     ]
    },
    {
     "name": "stdout",
     "output_type": "stream",
     "text": [
      "Epoch 2:\n"
     ]
    },
    {
     "name": "stderr",
     "output_type": "stream",
     "text": [
      "100%|██████████| 106/106 [00:00<00:00, 463.50it/s, avg. loss=0.0478]\n"
     ]
    },
    {
     "name": "stdout",
     "output_type": "stream",
     "text": [
      "On test:\n"
     ]
    },
    {
     "name": "stderr",
     "output_type": "stream",
     "text": [
      "100%|██████████| 106/106 [00:00<00:00, 838.16it/s, avg. loss=0.034]\n"
     ]
    },
    {
     "name": "stdout",
     "output_type": "stream",
     "text": [
      "              precision    recall  f1-score   support\n",
      "\n",
      "         0.0       1.00      0.98      0.99      1069\n",
      "         1.0       0.98      1.00      0.99      1048\n",
      "\n",
      "    accuracy                           0.99      2117\n",
      "   macro avg       0.99      0.99      0.99      2117\n",
      "weighted avg       0.99      0.99      0.99      2117\n",
      "\n",
      "Train AGE\n",
      "Epoch 0:\n"
     ]
    },
    {
     "name": "stderr",
     "output_type": "stream",
     "text": [
      "100%|██████████| 139/139 [00:00<00:00, 385.85it/s, avg. loss=0.112]\n"
     ]
    },
    {
     "name": "stdout",
     "output_type": "stream",
     "text": [
      "Epoch 1:\n"
     ]
    },
    {
     "name": "stderr",
     "output_type": "stream",
     "text": [
      "100%|██████████| 139/139 [00:00<00:00, 465.65it/s, avg. loss=0.0284]\n"
     ]
    },
    {
     "name": "stdout",
     "output_type": "stream",
     "text": [
      "Epoch 2:\n"
     ]
    },
    {
     "name": "stderr",
     "output_type": "stream",
     "text": [
      "100%|██████████| 139/139 [00:00<00:00, 456.49it/s, avg. loss=0.0139]\n"
     ]
    },
    {
     "name": "stdout",
     "output_type": "stream",
     "text": [
      "On test:\n"
     ]
    },
    {
     "name": "stderr",
     "output_type": "stream",
     "text": [
      "100%|██████████| 139/139 [00:00<00:00, 695.22it/s, avg. loss=0.00686]\n"
     ]
    },
    {
     "name": "stdout",
     "output_type": "stream",
     "text": [
      "              precision    recall  f1-score   support\n",
      "\n",
      "         0.0       1.00      1.00      1.00      1401\n",
      "         1.0       1.00      1.00      1.00      1375\n",
      "\n",
      "    accuracy                           1.00      2776\n",
      "   macro avg       1.00      1.00      1.00      2776\n",
      "weighted avg       1.00      1.00      1.00      2776\n",
      "\n",
      "Train ORDINAL\n",
      "Epoch 0:\n"
     ]
    },
    {
     "name": "stderr",
     "output_type": "stream",
     "text": [
      "100%|██████████| 50/50 [00:00<00:00, 453.61it/s, avg. loss=0.294]\n"
     ]
    },
    {
     "name": "stdout",
     "output_type": "stream",
     "text": [
      "Epoch 1:\n"
     ]
    },
    {
     "name": "stderr",
     "output_type": "stream",
     "text": [
      "100%|██████████| 50/50 [00:00<00:00, 457.76it/s, avg. loss=0.0571]\n"
     ]
    },
    {
     "name": "stdout",
     "output_type": "stream",
     "text": [
      "Epoch 2:\n"
     ]
    },
    {
     "name": "stderr",
     "output_type": "stream",
     "text": [
      "100%|██████████| 50/50 [00:00<00:00, 332.24it/s, avg. loss=0.0262]\n"
     ]
    },
    {
     "name": "stdout",
     "output_type": "stream",
     "text": [
      "On test:\n"
     ]
    },
    {
     "name": "stderr",
     "output_type": "stream",
     "text": [
      "100%|██████████| 50/50 [00:00<00:00, 828.39it/s, avg. loss=0.0161]\n"
     ]
    },
    {
     "name": "stdout",
     "output_type": "stream",
     "text": [
      "              precision    recall  f1-score   support\n",
      "\n",
      "         0.0       1.00      1.00      1.00       508\n",
      "         1.0       1.00      1.00      1.00       486\n",
      "\n",
      "    accuracy                           1.00       994\n",
      "   macro avg       1.00      1.00      1.00       994\n",
      "weighted avg       1.00      1.00      1.00       994\n",
      "\n",
      "Train NATIONALITY\n",
      "Epoch 0:\n"
     ]
    },
    {
     "name": "stderr",
     "output_type": "stream",
     "text": [
      "100%|██████████| 44/44 [00:00<00:00, 461.45it/s, avg. loss=0.293]\n"
     ]
    },
    {
     "name": "stdout",
     "output_type": "stream",
     "text": [
      "Epoch 1:\n"
     ]
    },
    {
     "name": "stderr",
     "output_type": "stream",
     "text": [
      "100%|██████████| 44/44 [00:00<00:00, 486.16it/s, avg. loss=0.0633]\n"
     ]
    },
    {
     "name": "stdout",
     "output_type": "stream",
     "text": [
      "Epoch 2:\n"
     ]
    },
    {
     "name": "stderr",
     "output_type": "stream",
     "text": [
      "100%|██████████| 44/44 [00:00<00:00, 476.22it/s, avg. loss=0.0319]\n"
     ]
    },
    {
     "name": "stdout",
     "output_type": "stream",
     "text": [
      "On test:\n"
     ]
    },
    {
     "name": "stderr",
     "output_type": "stream",
     "text": [
      "100%|██████████| 44/44 [00:00<00:00, 672.23it/s, avg. loss=0.0136]\n"
     ]
    },
    {
     "name": "stdout",
     "output_type": "stream",
     "text": [
      "              precision    recall  f1-score   support\n",
      "\n",
      "         0.0       1.00      1.00      1.00       442\n",
      "         1.0       1.00      1.00      1.00       424\n",
      "\n",
      "    accuracy                           1.00       866\n",
      "   macro avg       1.00      1.00      1.00       866\n",
      "weighted avg       1.00      1.00      1.00       866\n",
      "\n",
      "Train FACILITY\n",
      "Epoch 0:\n"
     ]
    },
    {
     "name": "stderr",
     "output_type": "stream",
     "text": [
      "100%|██████████| 83/83 [00:00<00:00, 478.97it/s, avg. loss=0.359]\n"
     ]
    },
    {
     "name": "stdout",
     "output_type": "stream",
     "text": [
      "Epoch 1:\n"
     ]
    },
    {
     "name": "stderr",
     "output_type": "stream",
     "text": [
      "100%|██████████| 83/83 [00:00<00:00, 485.36it/s, avg. loss=0.19] \n"
     ]
    },
    {
     "name": "stdout",
     "output_type": "stream",
     "text": [
      "Epoch 2:\n"
     ]
    },
    {
     "name": "stderr",
     "output_type": "stream",
     "text": [
      "100%|██████████| 83/83 [00:00<00:00, 377.85it/s, avg. loss=0.143]\n"
     ]
    },
    {
     "name": "stdout",
     "output_type": "stream",
     "text": [
      "On test:\n"
     ]
    },
    {
     "name": "stderr",
     "output_type": "stream",
     "text": [
      "100%|██████████| 83/83 [00:00<00:00, 773.50it/s, avg. loss=0.101] \n"
     ]
    },
    {
     "name": "stdout",
     "output_type": "stream",
     "text": [
      "              precision    recall  f1-score   support\n",
      "\n",
      "         0.0       0.99      0.94      0.97       836\n",
      "         1.0       0.94      1.00      0.97       817\n",
      "\n",
      "    accuracy                           0.97      1653\n",
      "   macro avg       0.97      0.97      0.97      1653\n",
      "weighted avg       0.97      0.97      0.97      1653\n",
      "\n",
      "Train STATE_OR_PROVINCE\n",
      "Epoch 0:\n"
     ]
    },
    {
     "name": "stderr",
     "output_type": "stream",
     "text": [
      "100%|██████████| 37/37 [00:00<00:00, 452.19it/s, avg. loss=0.327]\n"
     ]
    },
    {
     "name": "stdout",
     "output_type": "stream",
     "text": [
      "Epoch 1:\n"
     ]
    },
    {
     "name": "stderr",
     "output_type": "stream",
     "text": [
      "100%|██████████| 37/37 [00:00<00:00, 393.08it/s, avg. loss=0.0918]\n"
     ]
    },
    {
     "name": "stdout",
     "output_type": "stream",
     "text": [
      "Epoch 2:\n"
     ]
    },
    {
     "name": "stderr",
     "output_type": "stream",
     "text": [
      "100%|██████████| 37/37 [00:00<00:00, 468.00it/s, avg. loss=0.0425]\n"
     ]
    },
    {
     "name": "stdout",
     "output_type": "stream",
     "text": [
      "On test:\n"
     ]
    },
    {
     "name": "stderr",
     "output_type": "stream",
     "text": [
      "100%|██████████| 37/37 [00:00<00:00, 791.06it/s, avg. loss=0.0272]\n"
     ]
    },
    {
     "name": "stdout",
     "output_type": "stream",
     "text": [
      "              precision    recall  f1-score   support\n",
      "\n",
      "         0.0       1.00      0.99      1.00       364\n",
      "         1.0       0.99      1.00      1.00       360\n",
      "\n",
      "    accuracy                           1.00       724\n",
      "   macro avg       1.00      1.00      1.00       724\n",
      "weighted avg       1.00      1.00      1.00       724\n",
      "\n",
      "Train LAW\n",
      "Epoch 0:\n"
     ]
    },
    {
     "name": "stderr",
     "output_type": "stream",
     "text": [
      "100%|██████████| 96/96 [00:00<00:00, 460.55it/s, avg. loss=0.377]\n"
     ]
    },
    {
     "name": "stdout",
     "output_type": "stream",
     "text": [
      "Epoch 1:\n"
     ]
    },
    {
     "name": "stderr",
     "output_type": "stream",
     "text": [
      "100%|██████████| 96/96 [00:00<00:00, 472.65it/s, avg. loss=0.211]\n"
     ]
    },
    {
     "name": "stdout",
     "output_type": "stream",
     "text": [
      "Epoch 2:\n"
     ]
    },
    {
     "name": "stderr",
     "output_type": "stream",
     "text": [
      "100%|██████████| 96/96 [00:00<00:00, 393.91it/s, avg. loss=0.154]\n"
     ]
    },
    {
     "name": "stdout",
     "output_type": "stream",
     "text": [
      "On test:\n"
     ]
    },
    {
     "name": "stderr",
     "output_type": "stream",
     "text": [
      "100%|██████████| 96/96 [00:00<00:00, 808.72it/s, avg. loss=0.0982]\n"
     ]
    },
    {
     "name": "stdout",
     "output_type": "stream",
     "text": [
      "              precision    recall  f1-score   support\n",
      "\n",
      "         0.0       0.98      0.97      0.98       956\n",
      "         1.0       0.97      0.98      0.98       955\n",
      "\n",
      "    accuracy                           0.98      1911\n",
      "   macro avg       0.98      0.98      0.98      1911\n",
      "weighted avg       0.98      0.98      0.98      1911\n",
      "\n",
      "Train AWARD\n",
      "Epoch 0:\n"
     ]
    },
    {
     "name": "stderr",
     "output_type": "stream",
     "text": [
      "100%|██████████| 68/68 [00:00<00:00, 484.80it/s, avg. loss=0.354]\n"
     ]
    },
    {
     "name": "stdout",
     "output_type": "stream",
     "text": [
      "Epoch 1:\n"
     ]
    },
    {
     "name": "stderr",
     "output_type": "stream",
     "text": [
      "100%|██████████| 68/68 [00:00<00:00, 469.30it/s, avg. loss=0.172]\n"
     ]
    },
    {
     "name": "stdout",
     "output_type": "stream",
     "text": [
      "Epoch 2:\n"
     ]
    },
    {
     "name": "stderr",
     "output_type": "stream",
     "text": [
      "100%|██████████| 68/68 [00:00<00:00, 485.43it/s, avg. loss=0.125]\n"
     ]
    },
    {
     "name": "stdout",
     "output_type": "stream",
     "text": [
      "On test:\n"
     ]
    },
    {
     "name": "stderr",
     "output_type": "stream",
     "text": [
      "100%|██████████| 68/68 [00:00<00:00, 817.60it/s, avg. loss=0.0814]\n"
     ]
    },
    {
     "name": "stdout",
     "output_type": "stream",
     "text": [
      "              precision    recall  f1-score   support\n",
      "\n",
      "         0.0       0.99      0.96      0.97       673\n",
      "         1.0       0.96      0.99      0.98       671\n",
      "\n",
      "    accuracy                           0.97      1344\n",
      "   macro avg       0.98      0.97      0.97      1344\n",
      "weighted avg       0.98      0.97      0.97      1344\n",
      "\n",
      "Train LOCATION\n",
      "Epoch 0:\n"
     ]
    },
    {
     "name": "stderr",
     "output_type": "stream",
     "text": [
      "100%|██████████| 40/40 [00:00<00:00, 457.11it/s, avg. loss=0.422]\n"
     ]
    },
    {
     "name": "stdout",
     "output_type": "stream",
     "text": [
      "Epoch 1:\n"
     ]
    },
    {
     "name": "stderr",
     "output_type": "stream",
     "text": [
      "100%|██████████| 40/40 [00:00<00:00, 462.00it/s, avg. loss=0.185]\n"
     ]
    },
    {
     "name": "stdout",
     "output_type": "stream",
     "text": [
      "Epoch 2:\n"
     ]
    },
    {
     "name": "stderr",
     "output_type": "stream",
     "text": [
      "100%|██████████| 40/40 [00:00<00:00, 316.57it/s, avg. loss=0.113]\n"
     ]
    },
    {
     "name": "stdout",
     "output_type": "stream",
     "text": [
      "On test:\n"
     ]
    },
    {
     "name": "stderr",
     "output_type": "stream",
     "text": [
      "100%|██████████| 40/40 [00:00<00:00, 770.78it/s, avg. loss=0.0735]\n"
     ]
    },
    {
     "name": "stdout",
     "output_type": "stream",
     "text": [
      "              precision    recall  f1-score   support\n",
      "\n",
      "         0.0       1.00      0.97      0.98       395\n",
      "         1.0       0.97      1.00      0.99       396\n",
      "\n",
      "    accuracy                           0.98       791\n",
      "   macro avg       0.99      0.98      0.98       791\n",
      "weighted avg       0.99      0.98      0.98       791\n",
      "\n",
      "Train IDEOLOGY\n",
      "Epoch 0:\n"
     ]
    },
    {
     "name": "stderr",
     "output_type": "stream",
     "text": [
      "100%|██████████| 30/30 [00:00<00:00, 432.38it/s, avg. loss=0.417]\n"
     ]
    },
    {
     "name": "stdout",
     "output_type": "stream",
     "text": [
      "Epoch 1:\n"
     ]
    },
    {
     "name": "stderr",
     "output_type": "stream",
     "text": [
      "100%|██████████| 30/30 [00:00<00:00, 466.60it/s, avg. loss=0.145]\n"
     ]
    },
    {
     "name": "stdout",
     "output_type": "stream",
     "text": [
      "Epoch 2:\n"
     ]
    },
    {
     "name": "stderr",
     "output_type": "stream",
     "text": [
      "100%|██████████| 30/30 [00:00<00:00, 412.36it/s, avg. loss=0.0806]\n"
     ]
    },
    {
     "name": "stdout",
     "output_type": "stream",
     "text": [
      "On test:\n"
     ]
    },
    {
     "name": "stderr",
     "output_type": "stream",
     "text": [
      "100%|██████████| 30/30 [00:00<00:00, 731.94it/s, avg. loss=0.054]\n"
     ]
    },
    {
     "name": "stdout",
     "output_type": "stream",
     "text": [
      "              precision    recall  f1-score   support\n",
      "\n",
      "         0.0       0.99      0.99      0.99       289\n",
      "         1.0       0.99      0.99      0.99       307\n",
      "\n",
      "    accuracy                           0.99       596\n",
      "   macro avg       0.99      0.99      0.99       596\n",
      "weighted avg       0.99      0.99      0.99       596\n",
      "\n",
      "Train WORK_OF_ART\n",
      "Epoch 0:\n"
     ]
    },
    {
     "name": "stderr",
     "output_type": "stream",
     "text": [
      "100%|██████████| 78/78 [00:00<00:00, 363.96it/s, avg. loss=0.292]\n"
     ]
    },
    {
     "name": "stdout",
     "output_type": "stream",
     "text": [
      "Epoch 1:\n"
     ]
    },
    {
     "name": "stderr",
     "output_type": "stream",
     "text": [
      "100%|██████████| 78/78 [00:00<00:00, 438.81it/s, avg. loss=0.108]\n"
     ]
    },
    {
     "name": "stdout",
     "output_type": "stream",
     "text": [
      "Epoch 2:\n"
     ]
    },
    {
     "name": "stderr",
     "output_type": "stream",
     "text": [
      "100%|██████████| 78/78 [00:00<00:00, 443.32it/s, avg. loss=0.0641]\n"
     ]
    },
    {
     "name": "stdout",
     "output_type": "stream",
     "text": [
      "On test:\n"
     ]
    },
    {
     "name": "stderr",
     "output_type": "stream",
     "text": [
      "100%|██████████| 78/78 [00:00<00:00, 526.65it/s, avg. loss=0.0333]\n"
     ]
    },
    {
     "name": "stdout",
     "output_type": "stream",
     "text": [
      "              precision    recall  f1-score   support\n",
      "\n",
      "         0.0       1.00      0.99      0.99       782\n",
      "         1.0       0.99      1.00      0.99       766\n",
      "\n",
      "    accuracy                           0.99      1548\n",
      "   macro avg       0.99      0.99      0.99      1548\n",
      "weighted avg       0.99      0.99      0.99      1548\n",
      "\n",
      "Train PRODUCT\n",
      "Epoch 0:\n"
     ]
    },
    {
     "name": "stderr",
     "output_type": "stream",
     "text": [
      "100%|██████████| 33/33 [00:00<00:00, 438.17it/s, avg. loss=0.398]\n"
     ]
    },
    {
     "name": "stdout",
     "output_type": "stream",
     "text": [
      "Epoch 1:\n"
     ]
    },
    {
     "name": "stderr",
     "output_type": "stream",
     "text": [
      "100%|██████████| 33/33 [00:00<00:00, 440.52it/s, avg. loss=0.136]\n"
     ]
    },
    {
     "name": "stdout",
     "output_type": "stream",
     "text": [
      "Epoch 2:\n"
     ]
    },
    {
     "name": "stderr",
     "output_type": "stream",
     "text": [
      "100%|██████████| 33/33 [00:00<00:00, 456.17it/s, avg. loss=0.0775]\n"
     ]
    },
    {
     "name": "stdout",
     "output_type": "stream",
     "text": [
      "On test:\n"
     ]
    },
    {
     "name": "stderr",
     "output_type": "stream",
     "text": [
      "100%|██████████| 33/33 [00:00<00:00, 673.71it/s, avg. loss=0.065]\n"
     ]
    },
    {
     "name": "stdout",
     "output_type": "stream",
     "text": [
      "              precision    recall  f1-score   support\n",
      "\n",
      "         0.0       0.98      0.99      0.98       323\n",
      "         1.0       0.99      0.98      0.98       322\n",
      "\n",
      "    accuracy                           0.98       645\n",
      "   macro avg       0.98      0.98      0.98       645\n",
      "weighted avg       0.98      0.98      0.98       645\n",
      "\n",
      "Train CRIME\n",
      "Epoch 0:\n"
     ]
    },
    {
     "name": "stderr",
     "output_type": "stream",
     "text": [
      "100%|██████████| 57/57 [00:00<00:00, 408.79it/s, avg. loss=0.37] \n"
     ]
    },
    {
     "name": "stdout",
     "output_type": "stream",
     "text": [
      "Epoch 1:\n"
     ]
    },
    {
     "name": "stderr",
     "output_type": "stream",
     "text": [
      "100%|██████████| 57/57 [00:00<00:00, 466.01it/s, avg. loss=0.185]\n"
     ]
    },
    {
     "name": "stdout",
     "output_type": "stream",
     "text": [
      "Epoch 2:\n"
     ]
    },
    {
     "name": "stderr",
     "output_type": "stream",
     "text": [
      "100%|██████████| 57/57 [00:00<00:00, 467.34it/s, avg. loss=0.129]\n"
     ]
    },
    {
     "name": "stdout",
     "output_type": "stream",
     "text": [
      "On test:\n"
     ]
    },
    {
     "name": "stderr",
     "output_type": "stream",
     "text": [
      "100%|██████████| 57/57 [00:00<00:00, 770.98it/s, avg. loss=0.0873]\n"
     ]
    },
    {
     "name": "stdout",
     "output_type": "stream",
     "text": [
      "              precision    recall  f1-score   support\n",
      "\n",
      "         0.0       0.99      0.96      0.97       571\n",
      "         1.0       0.96      0.99      0.97       569\n",
      "\n",
      "    accuracy                           0.97      1140\n",
      "   macro avg       0.97      0.97      0.97      1140\n",
      "weighted avg       0.97      0.97      0.97      1140\n",
      "\n",
      "Train DISEASE\n",
      "Epoch 0:\n"
     ]
    },
    {
     "name": "stderr",
     "output_type": "stream",
     "text": [
      "100%|██████████| 39/39 [00:00<00:00, 259.74it/s, avg. loss=0.289]\n"
     ]
    },
    {
     "name": "stdout",
     "output_type": "stream",
     "text": [
      "Epoch 1:\n"
     ]
    },
    {
     "name": "stderr",
     "output_type": "stream",
     "text": [
      "100%|██████████| 39/39 [00:00<00:00, 447.76it/s, avg. loss=0.0856]\n"
     ]
    },
    {
     "name": "stdout",
     "output_type": "stream",
     "text": [
      "Epoch 2:\n"
     ]
    },
    {
     "name": "stderr",
     "output_type": "stream",
     "text": [
      "100%|██████████| 39/39 [00:00<00:00, 439.87it/s, avg. loss=0.0415]\n"
     ]
    },
    {
     "name": "stdout",
     "output_type": "stream",
     "text": [
      "On test:\n"
     ]
    },
    {
     "name": "stderr",
     "output_type": "stream",
     "text": [
      "100%|██████████| 39/39 [00:00<00:00, 736.83it/s, avg. loss=0.0215]\n"
     ]
    },
    {
     "name": "stdout",
     "output_type": "stream",
     "text": [
      "              precision    recall  f1-score   support\n",
      "\n",
      "         0.0       1.00      0.99      1.00       393\n",
      "         1.0       0.99      1.00      1.00       372\n",
      "\n",
      "    accuracy                           1.00       765\n",
      "   macro avg       1.00      1.00      1.00       765\n",
      "weighted avg       1.00      1.00      1.00       765\n",
      "\n",
      "Train TIME\n",
      "Epoch 0:\n"
     ]
    },
    {
     "name": "stderr",
     "output_type": "stream",
     "text": [
      "100%|██████████| 48/48 [00:00<00:00, 444.65it/s, avg. loss=0.265]\n"
     ]
    },
    {
     "name": "stdout",
     "output_type": "stream",
     "text": [
      "Epoch 1:\n"
     ]
    },
    {
     "name": "stderr",
     "output_type": "stream",
     "text": [
      "100%|██████████| 48/48 [00:00<00:00, 410.65it/s, avg. loss=0.0943]\n"
     ]
    },
    {
     "name": "stdout",
     "output_type": "stream",
     "text": [
      "Epoch 2:\n"
     ]
    },
    {
     "name": "stderr",
     "output_type": "stream",
     "text": [
      "100%|██████████| 48/48 [00:00<00:00, 333.23it/s, avg. loss=0.0551]\n"
     ]
    },
    {
     "name": "stdout",
     "output_type": "stream",
     "text": [
      "On test:\n"
     ]
    },
    {
     "name": "stderr",
     "output_type": "stream",
     "text": [
      "100%|██████████| 48/48 [00:00<00:00, 777.53it/s, avg. loss=0.0281]\n"
     ]
    },
    {
     "name": "stdout",
     "output_type": "stream",
     "text": [
      "              precision    recall  f1-score   support\n",
      "\n",
      "         0.0       1.00      1.00      1.00       473\n",
      "         1.0       1.00      1.00      1.00       471\n",
      "\n",
      "    accuracy                           1.00       944\n",
      "   macro avg       1.00      1.00      1.00       944\n",
      "weighted avg       1.00      1.00      1.00       944\n",
      "\n",
      "Train MONEY\n",
      "Epoch 0:\n"
     ]
    },
    {
     "name": "stderr",
     "output_type": "stream",
     "text": [
      "100%|██████████| 47/47 [00:00<00:00, 444.37it/s, avg. loss=0.243]\n"
     ]
    },
    {
     "name": "stdout",
     "output_type": "stream",
     "text": [
      "Epoch 1:\n"
     ]
    },
    {
     "name": "stderr",
     "output_type": "stream",
     "text": [
      "100%|██████████| 47/47 [00:00<00:00, 293.84it/s, avg. loss=0.0692]\n"
     ]
    },
    {
     "name": "stdout",
     "output_type": "stream",
     "text": [
      "Epoch 2:\n"
     ]
    },
    {
     "name": "stderr",
     "output_type": "stream",
     "text": [
      "100%|██████████| 47/47 [00:00<00:00, 431.78it/s, avg. loss=0.036] \n"
     ]
    },
    {
     "name": "stdout",
     "output_type": "stream",
     "text": [
      "On test:\n"
     ]
    },
    {
     "name": "stderr",
     "output_type": "stream",
     "text": [
      "100%|██████████| 47/47 [00:00<00:00, 773.74it/s, avg. loss=0.0188]\n"
     ]
    },
    {
     "name": "stdout",
     "output_type": "stream",
     "text": [
      "              precision    recall  f1-score   support\n",
      "\n",
      "         0.0       1.00      1.00      1.00       463\n",
      "         1.0       1.00      1.00      1.00       465\n",
      "\n",
      "    accuracy                           1.00       928\n",
      "   macro avg       1.00      1.00      1.00       928\n",
      "weighted avg       1.00      1.00      1.00       928\n",
      "\n",
      "Train DISTRICT\n",
      "Epoch 0:\n"
     ]
    },
    {
     "name": "stderr",
     "output_type": "stream",
     "text": [
      "100%|██████████| 16/16 [00:00<00:00, 390.85it/s, avg. loss=0.497]\n"
     ]
    },
    {
     "name": "stdout",
     "output_type": "stream",
     "text": [
      "Epoch 1:\n"
     ]
    },
    {
     "name": "stderr",
     "output_type": "stream",
     "text": [
      "100%|██████████| 16/16 [00:00<00:00, 431.15it/s, avg. loss=0.172]\n"
     ]
    },
    {
     "name": "stdout",
     "output_type": "stream",
     "text": [
      "Epoch 2:\n"
     ]
    },
    {
     "name": "stderr",
     "output_type": "stream",
     "text": [
      "100%|██████████| 16/16 [00:00<00:00, 395.79it/s, avg. loss=0.0862]\n"
     ]
    },
    {
     "name": "stdout",
     "output_type": "stream",
     "text": [
      "On test:\n"
     ]
    },
    {
     "name": "stderr",
     "output_type": "stream",
     "text": [
      "100%|██████████| 16/16 [00:00<00:00, 581.71it/s, avg. loss=0.0541]\n"
     ]
    },
    {
     "name": "stdout",
     "output_type": "stream",
     "text": [
      "              precision    recall  f1-score   support\n",
      "\n",
      "         0.0       1.00      0.99      0.99       148\n",
      "         1.0       0.99      1.00      0.99       155\n",
      "\n",
      "    accuracy                           0.99       303\n",
      "   macro avg       0.99      0.99      0.99       303\n",
      "weighted avg       0.99      0.99      0.99       303\n",
      "\n",
      "Train PENALTY\n",
      "Epoch 0:\n"
     ]
    },
    {
     "name": "stderr",
     "output_type": "stream",
     "text": [
      "100%|██████████| 18/18 [00:00<00:00, 416.23it/s, avg. loss=0.497]\n"
     ]
    },
    {
     "name": "stdout",
     "output_type": "stream",
     "text": [
      "Epoch 1:\n"
     ]
    },
    {
     "name": "stderr",
     "output_type": "stream",
     "text": [
      "100%|██████████| 18/18 [00:00<00:00, 415.25it/s, avg. loss=0.216]\n"
     ]
    },
    {
     "name": "stdout",
     "output_type": "stream",
     "text": [
      "Epoch 2:\n"
     ]
    },
    {
     "name": "stderr",
     "output_type": "stream",
     "text": [
      "100%|██████████| 18/18 [00:00<00:00, 405.65it/s, avg. loss=0.126]\n"
     ]
    },
    {
     "name": "stdout",
     "output_type": "stream",
     "text": [
      "On test:\n"
     ]
    },
    {
     "name": "stderr",
     "output_type": "stream",
     "text": [
      "100%|██████████| 18/18 [00:00<00:00, 742.08it/s, avg. loss=0.0853]\n"
     ]
    },
    {
     "name": "stdout",
     "output_type": "stream",
     "text": [
      "              precision    recall  f1-score   support\n",
      "\n",
      "         0.0       1.00      0.97      0.98       174\n",
      "         1.0       0.97      1.00      0.98       178\n",
      "\n",
      "    accuracy                           0.98       352\n",
      "   macro avg       0.98      0.98      0.98       352\n",
      "weighted avg       0.98      0.98      0.98       352\n",
      "\n",
      "Train RELIGION\n",
      "Epoch 0:\n"
     ]
    },
    {
     "name": "stderr",
     "output_type": "stream",
     "text": [
      "100%|██████████| 8/8 [00:00<00:00, 372.54it/s, avg. loss=0.556]\n"
     ]
    },
    {
     "name": "stdout",
     "output_type": "stream",
     "text": [
      "Epoch 1:\n"
     ]
    },
    {
     "name": "stderr",
     "output_type": "stream",
     "text": [
      "100%|██████████| 8/8 [00:00<00:00, 106.27it/s, avg. loss=0.246]\n"
     ]
    },
    {
     "name": "stdout",
     "output_type": "stream",
     "text": [
      "Epoch 2:\n"
     ]
    },
    {
     "name": "stderr",
     "output_type": "stream",
     "text": [
      "100%|██████████| 8/8 [00:00<00:00, 424.44it/s, avg. loss=0.108]\n"
     ]
    },
    {
     "name": "stdout",
     "output_type": "stream",
     "text": [
      "On test:\n"
     ]
    },
    {
     "name": "stderr",
     "output_type": "stream",
     "text": [
      "100%|██████████| 8/8 [00:00<00:00, 773.21it/s, avg. loss=0.0663]\n"
     ]
    },
    {
     "name": "stdout",
     "output_type": "stream",
     "text": [
      "              precision    recall  f1-score   support\n",
      "\n",
      "         0.0       0.99      1.00      0.99        77\n",
      "         1.0       1.00      0.99      0.99        71\n",
      "\n",
      "    accuracy                           0.99       148\n",
      "   macro avg       0.99      0.99      0.99       148\n",
      "weighted avg       0.99      0.99      0.99       148\n",
      "\n",
      "Train PERCENT\n",
      "Epoch 0:\n"
     ]
    },
    {
     "name": "stderr",
     "output_type": "stream",
     "text": [
      "100%|██████████| 14/14 [00:00<00:00, 360.26it/s, avg. loss=0.421]\n"
     ]
    },
    {
     "name": "stdout",
     "output_type": "stream",
     "text": [
      "Epoch 1:\n"
     ]
    },
    {
     "name": "stderr",
     "output_type": "stream",
     "text": [
      "100%|██████████| 14/14 [00:00<00:00, 382.84it/s, avg. loss=0.084]\n"
     ]
    },
    {
     "name": "stdout",
     "output_type": "stream",
     "text": [
      "Epoch 2:\n"
     ]
    },
    {
     "name": "stderr",
     "output_type": "stream",
     "text": [
      "100%|██████████| 14/14 [00:00<00:00, 414.55it/s, avg. loss=0.0253]\n"
     ]
    },
    {
     "name": "stdout",
     "output_type": "stream",
     "text": [
      "On test:\n"
     ]
    },
    {
     "name": "stderr",
     "output_type": "stream",
     "text": [
      "100%|██████████| 14/14 [00:00<00:00, 730.47it/s, avg. loss=0.0136]\n"
     ]
    },
    {
     "name": "stdout",
     "output_type": "stream",
     "text": [
      "              precision    recall  f1-score   support\n",
      "\n",
      "         0.0       1.00      1.00      1.00       124\n",
      "         1.0       1.00      1.00      1.00       137\n",
      "\n",
      "    accuracy                           1.00       261\n",
      "   macro avg       1.00      1.00      1.00       261\n",
      "weighted avg       1.00      1.00      1.00       261\n",
      "\n",
      "Train LANGUAGE\n",
      "Epoch 0:\n"
     ]
    },
    {
     "name": "stderr",
     "output_type": "stream",
     "text": [
      "100%|██████████| 5/5 [00:00<00:00, 441.51it/s, avg. loss=0.648]\n"
     ]
    },
    {
     "name": "stdout",
     "output_type": "stream",
     "text": [
      "Epoch 1:\n"
     ]
    },
    {
     "name": "stderr",
     "output_type": "stream",
     "text": [
      "100%|██████████| 5/5 [00:00<00:00, 249.71it/s, avg. loss=0.385]\n"
     ]
    },
    {
     "name": "stdout",
     "output_type": "stream",
     "text": [
      "Epoch 2:\n"
     ]
    },
    {
     "name": "stderr",
     "output_type": "stream",
     "text": [
      "100%|██████████| 5/5 [00:00<00:00, 353.73it/s, avg. loss=0.227]\n"
     ]
    },
    {
     "name": "stdout",
     "output_type": "stream",
     "text": [
      "On test:\n"
     ]
    },
    {
     "name": "stderr",
     "output_type": "stream",
     "text": [
      "100%|██████████| 5/5 [00:00<00:00, 610.88it/s, avg. loss=0.158]\n"
     ]
    },
    {
     "name": "stdout",
     "output_type": "stream",
     "text": [
      "              precision    recall  f1-score   support\n",
      "\n",
      "         0.0       0.98      1.00      0.99        48\n",
      "         1.0       1.00      0.98      0.99        47\n",
      "\n",
      "    accuracy                           0.99        95\n",
      "   macro avg       0.99      0.99      0.99        95\n",
      "weighted avg       0.99      0.99      0.99        95\n",
      "\n",
      "Train FAMILY\n",
      "Epoch 0:\n"
     ]
    },
    {
     "name": "stderr",
     "output_type": "stream",
     "text": [
      "100%|██████████| 5/5 [00:00<00:00, 327.57it/s, avg. loss=0.654]\n"
     ]
    },
    {
     "name": "stdout",
     "output_type": "stream",
     "text": [
      "Epoch 1:\n"
     ]
    },
    {
     "name": "stderr",
     "output_type": "stream",
     "text": [
      "100%|██████████| 5/5 [00:00<00:00, 318.68it/s, avg. loss=0.421]\n"
     ]
    },
    {
     "name": "stdout",
     "output_type": "stream",
     "text": [
      "Epoch 2:\n"
     ]
    },
    {
     "name": "stderr",
     "output_type": "stream",
     "text": [
      "100%|██████████| 5/5 [00:00<00:00, 233.51it/s, avg. loss=0.28]\n"
     ]
    },
    {
     "name": "stdout",
     "output_type": "stream",
     "text": [
      "On test:\n"
     ]
    },
    {
     "name": "stderr",
     "output_type": "stream",
     "text": [
      "100%|██████████| 5/5 [00:00<00:00, 523.91it/s, avg. loss=0.213]\n"
     ]
    },
    {
     "name": "stdout",
     "output_type": "stream",
     "text": [
      "              precision    recall  f1-score   support\n",
      "\n",
      "         0.0       0.98      0.95      0.97        44\n",
      "         1.0       0.95      0.98      0.97        43\n",
      "\n",
      "    accuracy                           0.97        87\n",
      "   macro avg       0.97      0.97      0.97        87\n",
      "weighted avg       0.97      0.97      0.97        87\n",
      "\n"
     ]
    }
   ],
   "source": [
    "models = {}\n",
    "\n",
    "for ent in ds.per_entity:\n",
    "    print(f\"Train {ent}\")\n",
    "    c_m = SimpleModel(768)\n",
    "    train_ds, test_ds = torch.utils.data.random_split(ds.per_entity[ent], [0.8, 0.2])\n",
    "    train_loader = torch.utils.data.DataLoader(train_ds, batch_size=20)\n",
    "    test_loader = torch.utils.data.DataLoader(train_ds, batch_size=20)\n",
    "\n",
    "    train(c_m, train_loader, test_loader, 3)\n",
    "    models[ent] = c_m"
   ]
  },
  {
   "cell_type": "code",
   "execution_count": 87,
   "metadata": {},
   "outputs": [
    {
     "data": {
      "text/plain": [
       "'Теракт в Иерусалиме: убиты двое полицейских\\nПогибшие в результате теракта полицейские\\nВ пятницу, 14 июля 2017 года, в Восточном Иерусалиме рядом с Храмовой горой произошёл теракт.\\n\\nУтром трое неизвестных неожиданно начали стрелять возле Львиных ворот Старого города, после чего попытались убежать и скрыться в одной из мечетей на Храмовой горе.\\n\\nРаненых полицейских и пограничника госпитализировали в больницу Адаса Хар-ха-Цофим (בית החולים הדסה הר הצופים). Однако двое из них в полдень умерли.\\n\\nПосле нападения вход на Храмовую гору был закрыт, а все посетители\\xa0— эвакуированы.\\n\\nПосле 11:30 появились сообщения о том, что вооруженное нападение на Храмовой горе совершили трое жителей израильского арабского города Умм эль-Фахм.\\n\\nВсе трое, по документам, носили одно имя\\xa0— Мухаммад Джабарин. Им было 30, 20 и 19 лет. Полные имена террористов: Мухаммад Ахмад Мухаммад Джабарин, Мухаммад Хамад Абд аль-Латиф Джабарин и Мухаммад Ахмад Мафаль Джабарин.\\n\\nДвое из преступников за день до теракта 13 июля опубликовали селфи в Facebook с подписью: «Улыбка. Завтра будет лучше». Эта фотография также опубликована сайтом «Палестинский информационный центр», принадлежащему ХАМАС.\\n\\nХАМАС не берёт на себя ответственность за этот теракт, утверждая, что трое нападавших были активистами северного крыла «Исламского движения» и мстили евреям за «осквернение мечети Аль-Акса».\\n\\nВ связи с тем, что террористам удалось пронести на Храмовую гору стрелковое и автоматическое оружие, начальник полиции Иерусалимского округа Йорам Ха-Леви рекомендовал правительству установить на входах на Храмовую гору рамки металлоискателейВпервые за 17 лет у входа на Храмовую гору установлены магнитные ворота.\\n\\nВ ночь с 15 на 16 июля в столице Иордании Аммане прошли многочисленные демонстрации с требованиями разорвать мирный договор с Израилем из-за ситуации на Храмовой горе. Иорданцы требуют разорвать мирное соглашение с Израилем.\\n'"
      ]
     },
     "execution_count": 87,
     "metadata": {},
     "output_type": "execute_result"
    }
   ],
   "source": [
    "train_json.iloc[42].sentences"
   ]
  },
  {
   "cell_type": "code",
   "execution_count": 108,
   "metadata": {},
   "outputs": [],
   "source": [
    "class Pipeline:\n",
    "    def __init__(self, bert_model, bert_tokenizer, models) -> None:\n",
    "        self.bert_model: BertModel = bert_model\n",
    "        self.bert_tokenizer: BertTokenizer = bert_tokenizer\n",
    "        self.models = models\n",
    "\n",
    "    def forward(self, x: str):\n",
    "        tokenized = self.bert_tokenizer.batch_encode_plus(\n",
    "            [x], add_special_tokens=True, return_tensors=\"pt\", truncation=True, max_length=512\n",
    "        )\n",
    "        # if tokenized[\"input_ids\"]\n",
    "        if tokenized[\"input_ids\"].shape[1] > 512:\n",
    "            print(\"POMOGITE\")\n",
    "        output = self.bert_model(\n",
    "            tokenized[\"input_ids\"], attention_mask=tokenized[\"attention_mask\"]\n",
    "        )\n",
    "        word_embeddings = output.last_hidden_state[0]\n",
    "\n",
    "        tokens = tokenizer.convert_ids_to_tokens(tokenized[\"input_ids\"][0].tolist())\n",
    "        tokens_lengths = list(map(lambda x: len(x.replace(\"#\", \"\")), tokens))\n",
    "        tokens_lengths[0] = 0\n",
    "        tokens_lengths[-1] = 0\n",
    "\n",
    "        nested_ners = []\n",
    "\n",
    "        for ent in self.models:\n",
    "            labels = self.models[ent](word_embeddings)\n",
    "            labels = labels[1:-1]  # remove [CLS] and [SEP]\n",
    "            c_seq = labels > 0.5\n",
    "            i = 0\n",
    "            # print(ent)\n",
    "            # print(labels)\n",
    "            # print(c_seq)\n",
    "            while i < len(c_seq):\n",
    "                if c_seq[i] == 0:\n",
    "                    i += 1\n",
    "                    continue\n",
    "\n",
    "                j = i + 1\n",
    "                while j < len(c_seq):\n",
    "                    if c_seq[j] != c_seq[i]:\n",
    "                        break\n",
    "\n",
    "                    j += 1\n",
    "\n",
    "                if i + 1 == j:\n",
    "                    i += 1\n",
    "                    continue\n",
    "\n",
    "                nested_ners.append((i, j - 1, ent))\n",
    "                i = j\n",
    "\n",
    "        return nested_ners\n",
    "\n",
    "\n",
    "pipe = Pipeline(ds.bert_model, ds.tokenizer, models)\n",
    "# to_test = train_json.iloc[42]\n",
    "# to_test = submission_json.iloc[2].senences\n",
    "# result = pipe.forward(to_test)\n",
    "\n",
    "# for l_idx, r_idx, ent in result:\n",
    "#     print(f\"{ent}: ({l_idx}, {r_idx}) --> {to_test[l_idx: r_idx + 1]}\")"
   ]
  },
  {
   "cell_type": "code",
   "execution_count": 141,
   "metadata": {},
   "outputs": [
    {
     "data": {
      "text/html": [
       "<div>\n",
       "<style scoped>\n",
       "    .dataframe tbody tr th:only-of-type {\n",
       "        vertical-align: middle;\n",
       "    }\n",
       "\n",
       "    .dataframe tbody tr th {\n",
       "        vertical-align: top;\n",
       "    }\n",
       "\n",
       "    .dataframe thead th {\n",
       "        text-align: right;\n",
       "    }\n",
       "</style>\n",
       "<table border=\"1\" class=\"dataframe\">\n",
       "  <thead>\n",
       "    <tr style=\"text-align: right;\">\n",
       "      <th></th>\n",
       "      <th>senences</th>\n",
       "      <th>id</th>\n",
       "    </tr>\n",
       "  </thead>\n",
       "  <tbody>\n",
       "    <tr>\n",
       "      <th>0</th>\n",
       "      <td>Владелец «Бирмингема» получил шесть лет тюрьмы...</td>\n",
       "      <td>584</td>\n",
       "    </tr>\n",
       "    <tr>\n",
       "      <th>1</th>\n",
       "      <td>Акция протеста на Майдане Независимости объявл...</td>\n",
       "      <td>585</td>\n",
       "    </tr>\n",
       "    <tr>\n",
       "      <th>2</th>\n",
       "      <td>Фольксваген может перейти под контроль Порше \\...</td>\n",
       "      <td>586</td>\n",
       "    </tr>\n",
       "    <tr>\n",
       "      <th>3</th>\n",
       "      <td>В Москве покажут фильмы Чарли Чаплина с живой ...</td>\n",
       "      <td>587</td>\n",
       "    </tr>\n",
       "    <tr>\n",
       "      <th>4</th>\n",
       "      <td>Чулпан Хаматова сыграет главную роль в фильме ...</td>\n",
       "      <td>588</td>\n",
       "    </tr>\n",
       "  </tbody>\n",
       "</table>\n",
       "</div>"
      ],
      "text/plain": [
       "                                            senences   id\n",
       "0  Владелец «Бирмингема» получил шесть лет тюрьмы...  584\n",
       "1  Акция протеста на Майдане Независимости объявл...  585\n",
       "2  Фольксваген может перейти под контроль Порше \\...  586\n",
       "3  В Москве покажут фильмы Чарли Чаплина с живой ...  587\n",
       "4  Чулпан Хаматова сыграет главную роль в фильме ...  588"
      ]
     },
     "execution_count": 141,
     "metadata": {},
     "output_type": "execute_result"
    }
   ],
   "source": [
    "submission_json = pd.read_json(\"../data/test/test.jsonl\", lines=True)\n",
    "submission_json.head()"
   ]
  },
  {
   "cell_type": "code",
   "execution_count": 142,
   "metadata": {},
   "outputs": [
    {
     "data": {
      "text/plain": [
       "(65, 2)"
      ]
     },
     "execution_count": 142,
     "metadata": {},
     "output_type": "execute_result"
    }
   ],
   "source": [
    "submission_json.shape"
   ]
  },
  {
   "cell_type": "code",
   "execution_count": 143,
   "metadata": {},
   "outputs": [
    {
     "name": "stderr",
     "output_type": "stream",
     "text": [
      "100%|██████████| 65/65 [00:24<00:00,  2.65it/s]\n"
     ]
    }
   ],
   "source": [
    "submission_results = []\n",
    "for i, (sent, id) in tqdm(submission_json.iterrows(), total=submission_json.shape[0]):\n",
    "    results = pipe.forward(sent)\n",
    "    submission_results.append({\"id\": id, \"ners\": results})\n",
    "    "
   ]
  },
  {
   "cell_type": "code",
   "execution_count": 144,
   "metadata": {},
   "outputs": [],
   "source": [
    "import json\n",
    "\n",
    "with open(\"test.jsonl\", \"w\") as f:\n",
    "    for i in range(len(submission_results)):\n",
    "        json.dump(submission_results[i], f)\n",
    "        f.write(\"\\n\")\n",
    "    "
   ]
  },
  {
   "cell_type": "code",
   "execution_count": 138,
   "metadata": {},
   "outputs": [
    {
     "data": {
      "text/html": [
       "<div>\n",
       "<style scoped>\n",
       "    .dataframe tbody tr th:only-of-type {\n",
       "        vertical-align: middle;\n",
       "    }\n",
       "\n",
       "    .dataframe tbody tr th {\n",
       "        vertical-align: top;\n",
       "    }\n",
       "\n",
       "    .dataframe thead th {\n",
       "        text-align: right;\n",
       "    }\n",
       "</style>\n",
       "<table border=\"1\" class=\"dataframe\">\n",
       "  <thead>\n",
       "    <tr style=\"text-align: right;\">\n",
       "      <th></th>\n",
       "      <th>id</th>\n",
       "      <th>ners</th>\n",
       "    </tr>\n",
       "  </thead>\n",
       "  <tbody>\n",
       "    <tr>\n",
       "      <th>0</th>\n",
       "      <td>519</td>\n",
       "      <td>[[1, 4, PERSON], [12, 14, PERSON], [39, 42, PE...</td>\n",
       "    </tr>\n",
       "    <tr>\n",
       "      <th>1</th>\n",
       "      <td>520</td>\n",
       "      <td>[[18, 21, PERSON], [36, 37, PERSON], [45, 48, ...</td>\n",
       "    </tr>\n",
       "    <tr>\n",
       "      <th>2</th>\n",
       "      <td>521</td>\n",
       "      <td>[[1, 2, PERSON], [9, 12, PERSON], [16, 17, PER...</td>\n",
       "    </tr>\n",
       "    <tr>\n",
       "      <th>3</th>\n",
       "      <td>522</td>\n",
       "      <td>[[26, 28, PERSON], [178, 180, PERSON], [266, 2...</td>\n",
       "    </tr>\n",
       "    <tr>\n",
       "      <th>4</th>\n",
       "      <td>523</td>\n",
       "      <td>[[4, 5, PERSON], [13, 14, PERSON], [21, 22, PE...</td>\n",
       "    </tr>\n",
       "    <tr>\n",
       "      <th>...</th>\n",
       "      <td>...</td>\n",
       "      <td>...</td>\n",
       "    </tr>\n",
       "    <tr>\n",
       "      <th>60</th>\n",
       "      <td>579</td>\n",
       "      <td>[[10, 12, PERSON], [30, 31, PERSON], [33, 34, ...</td>\n",
       "    </tr>\n",
       "    <tr>\n",
       "      <th>61</th>\n",
       "      <td>580</td>\n",
       "      <td>[[2, 3, PERSON], [12, 13, PERSON], [19, 21, PE...</td>\n",
       "    </tr>\n",
       "    <tr>\n",
       "      <th>62</th>\n",
       "      <td>581</td>\n",
       "      <td>[[9, 11, PERSON], [13, 14, PERSON], [16, 17, P...</td>\n",
       "    </tr>\n",
       "    <tr>\n",
       "      <th>63</th>\n",
       "      <td>582</td>\n",
       "      <td>[[4, 9, PERSON], [37, 39, PERSON], [47, 49, PE...</td>\n",
       "    </tr>\n",
       "    <tr>\n",
       "      <th>64</th>\n",
       "      <td>583</td>\n",
       "      <td>[[76, 78, PERSON], [88, 90, PERSON], [162, 165...</td>\n",
       "    </tr>\n",
       "  </tbody>\n",
       "</table>\n",
       "<p>65 rows × 2 columns</p>\n",
       "</div>"
      ],
      "text/plain": [
       "     id                                               ners\n",
       "0   519  [[1, 4, PERSON], [12, 14, PERSON], [39, 42, PE...\n",
       "1   520  [[18, 21, PERSON], [36, 37, PERSON], [45, 48, ...\n",
       "2   521  [[1, 2, PERSON], [9, 12, PERSON], [16, 17, PER...\n",
       "3   522  [[26, 28, PERSON], [178, 180, PERSON], [266, 2...\n",
       "4   523  [[4, 5, PERSON], [13, 14, PERSON], [21, 22, PE...\n",
       "..  ...                                                ...\n",
       "60  579  [[10, 12, PERSON], [30, 31, PERSON], [33, 34, ...\n",
       "61  580  [[2, 3, PERSON], [12, 13, PERSON], [19, 21, PE...\n",
       "62  581  [[9, 11, PERSON], [13, 14, PERSON], [16, 17, P...\n",
       "63  582  [[4, 9, PERSON], [37, 39, PERSON], [47, 49, PE...\n",
       "64  583  [[76, 78, PERSON], [88, 90, PERSON], [162, 165...\n",
       "\n",
       "[65 rows x 2 columns]"
      ]
     },
     "execution_count": 138,
     "metadata": {},
     "output_type": "execute_result"
    }
   ],
   "source": [
    "subm = pd.read_json(\"test.jsonl\", lines=True)\n",
    "subm"
   ]
  },
  {
   "cell_type": "code",
   "execution_count": 139,
   "metadata": {},
   "outputs": [
    {
     "data": {
      "text/html": [
       "<div>\n",
       "<style scoped>\n",
       "    .dataframe tbody tr th:only-of-type {\n",
       "        vertical-align: middle;\n",
       "    }\n",
       "\n",
       "    .dataframe tbody tr th {\n",
       "        vertical-align: top;\n",
       "    }\n",
       "\n",
       "    .dataframe thead th {\n",
       "        text-align: right;\n",
       "    }\n",
       "</style>\n",
       "<table border=\"1\" class=\"dataframe\">\n",
       "  <thead>\n",
       "    <tr style=\"text-align: right;\">\n",
       "      <th></th>\n",
       "      <th>senences</th>\n",
       "      <th>id</th>\n",
       "    </tr>\n",
       "  </thead>\n",
       "  <tbody>\n",
       "    <tr>\n",
       "      <th>0</th>\n",
       "      <td>Владелец «Бирмингема» получил шесть лет тюрьмы...</td>\n",
       "      <td>584</td>\n",
       "    </tr>\n",
       "    <tr>\n",
       "      <th>1</th>\n",
       "      <td>Акция протеста на Майдане Независимости объявл...</td>\n",
       "      <td>585</td>\n",
       "    </tr>\n",
       "    <tr>\n",
       "      <th>2</th>\n",
       "      <td>Фольксваген может перейти под контроль Порше \\...</td>\n",
       "      <td>586</td>\n",
       "    </tr>\n",
       "    <tr>\n",
       "      <th>3</th>\n",
       "      <td>В Москве покажут фильмы Чарли Чаплина с живой ...</td>\n",
       "      <td>587</td>\n",
       "    </tr>\n",
       "    <tr>\n",
       "      <th>4</th>\n",
       "      <td>Чулпан Хаматова сыграет главную роль в фильме ...</td>\n",
       "      <td>588</td>\n",
       "    </tr>\n",
       "    <tr>\n",
       "      <th>...</th>\n",
       "      <td>...</td>\n",
       "      <td>...</td>\n",
       "    </tr>\n",
       "    <tr>\n",
       "      <th>60</th>\n",
       "      <td>ОБСЕ назвала референдум о статусе Крыма незако...</td>\n",
       "      <td>644</td>\n",
       "    </tr>\n",
       "    <tr>\n",
       "      <th>61</th>\n",
       "      <td>Египетского студента могут выслать из страны з...</td>\n",
       "      <td>645</td>\n",
       "    </tr>\n",
       "    <tr>\n",
       "      <th>62</th>\n",
       "      <td>Геннадий Онищенко отправлен в отставку\\nГеннад...</td>\n",
       "      <td>646</td>\n",
       "    </tr>\n",
       "    <tr>\n",
       "      <th>63</th>\n",
       "      <td>Племянник Алишера Усманова разбился в ДТП\\nВид...</td>\n",
       "      <td>647</td>\n",
       "    </tr>\n",
       "    <tr>\n",
       "      <th>64</th>\n",
       "      <td>Владимир Булавин назначен на новую должность —...</td>\n",
       "      <td>648</td>\n",
       "    </tr>\n",
       "  </tbody>\n",
       "</table>\n",
       "<p>65 rows × 2 columns</p>\n",
       "</div>"
      ],
      "text/plain": [
       "                                             senences   id\n",
       "0   Владелец «Бирмингема» получил шесть лет тюрьмы...  584\n",
       "1   Акция протеста на Майдане Независимости объявл...  585\n",
       "2   Фольксваген может перейти под контроль Порше \\...  586\n",
       "3   В Москве покажут фильмы Чарли Чаплина с живой ...  587\n",
       "4   Чулпан Хаматова сыграет главную роль в фильме ...  588\n",
       "..                                                ...  ...\n",
       "60  ОБСЕ назвала референдум о статусе Крыма незако...  644\n",
       "61  Египетского студента могут выслать из страны з...  645\n",
       "62  Геннадий Онищенко отправлен в отставку\\nГеннад...  646\n",
       "63  Племянник Алишера Усманова разбился в ДТП\\nВид...  647\n",
       "64  Владимир Булавин назначен на новую должность —...  648\n",
       "\n",
       "[65 rows x 2 columns]"
      ]
     },
     "execution_count": 139,
     "metadata": {},
     "output_type": "execute_result"
    }
   ],
   "source": [
    "test_json = pd.read_json(\"/home/konstfed/Documents/Study/NLP_course/NLP_assignments/assignment3/data/test/test.jsonl\", lines=True)\n",
    "test_json"
   ]
  }
 ],
 "metadata": {
  "kernelspec": {
   "display_name": "ml",
   "language": "python",
   "name": "python3"
  },
  "language_info": {
   "codemirror_mode": {
    "name": "ipython",
    "version": 3
   },
   "file_extension": ".py",
   "mimetype": "text/x-python",
   "name": "python",
   "nbconvert_exporter": "python",
   "pygments_lexer": "ipython3",
   "version": "3.11.6"
  }
 },
 "nbformat": 4,
 "nbformat_minor": 2
}
