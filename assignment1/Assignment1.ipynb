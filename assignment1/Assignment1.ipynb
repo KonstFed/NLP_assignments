{
  "cells": [
    {
      "cell_type": "markdown",
      "metadata": {
        "id": "RKboZnAdgrRM"
      },
      "source": [
        "# [NLP] Assignment 1: Tokenization\n",
        "\n",
        "In this assignment, you need to tokenize the text of the Twitter(X) users posts(tweets). The assignment consists of two tasks. When you finish all the tasks, create a GitHub repository for this assignment (you can use this repo later for the other assignments) and submit this notebook in the repository. Leave `requirements.txt` file if your code requires additional installations. Submit the link to the repository in Moodle.\n",
        "\n",
        "The [data](https://drive.google.com/file/d/15x_wPAflvYQ2Xh38iNQGrqUIWLj5l5Nw/view?usp=share_link) contains 5 files whereby each contains 44 tweets. Each tweet is separated by a newline."
      ]
    },
    {
      "cell_type": "markdown",
      "metadata": {
        "id": "aLDjjAvemUP_"
      },
      "source": [
        "## Task 1. Tokenize some tweets manually (20 points)\n",
        "\n",
        "As a first task you need to tokenize first 15 tweets from `file2` by hand. This will allow you to understand the problem from a linguistic point of view. The guidelines for tweet tokenization are as follows:\n",
        "\n",
        "- Each smiley is a separate token\n",
        "- Each hashtag is an individual token. Each user reference is an individual token\n",
        "- If a word has spaces between them then it is converted to a single token\n",
        "- All punctuations are individual tokens. This includes double-quotes and single quotes also\n",
        "- A URL is a single token\n",
        "\n",
        "Example of output\n",
        "\n",
        "    Input tweet\n",
        "    @xfranman Old age has made N A T O!\n",
        "\n",
        "    Tokenized tweet (separated by comma)\n",
        "    @xfranman , Old , age , has , made , NATO , !"
      ]
    },
    {
      "cell_type": "markdown",
      "metadata": {
        "id": "7KKKwTidnzUw"
      },
      "source": [
        "\n",
        "    1. Input tweet\n",
        "    ...\n",
        "    1. Tokenized tweet\n",
        "    ...\n",
        "\n",
        "    2. Input tweet\n",
        "    ...\n",
        "    2. Tokenized tweet\n",
        "    ..."
      ]
    },
    {
      "cell_type": "code",
      "execution_count": 3,
      "metadata": {},
      "outputs": [
        {
          "data": {
            "text/plain": [
              "220"
            ]
          },
          "execution_count": 3,
          "metadata": {},
          "output_type": "execute_result"
        }
      ],
      "source": [
        "tweets = []\n",
        "for i in range(1, 6):\n",
        "    with open(f\"file{i}\") as f:\n",
        "        tweets += f.readlines()\n",
        "len(tweets)"
      ]
    },
    {
      "cell_type": "code",
      "execution_count": 4,
      "metadata": {},
      "outputs": [
        {
          "name": "stdout",
          "output_type": "stream",
          "text": [
            "Camping in Maine for the weekend. Hey Dad, Mama Loves YOU: http://www.mamapalooza.com\n",
            "\n",
            "Its american tradition bitch\n",
            "\n",
            "@ThroughTheVoid They love it! The only pleasure they get in life. I actually do that. I'm sure I hear a tiny squeak... Then louder ones\n",
            "\n",
            "\" RT @latti: @AbsoHilare stop tweeting in church! Lol <--- \"\"I tweet because I'm happy, I tweet because I'm free\"\" LOL!\"\n",
            "\n",
            "Samsung Mini S2 portable HDD graced with colors that perfectly match your tacky beach gear: Sammy's done it aga.. http://tinyurl.com/lb5p6m\n",
            "\n",
            "@dialloc congrats on finding your way over. it may be slow going at first. hang in there. it's kinda cool when u get up to speed.\n",
            "\n",
            "iPhone activation delays continue, Apple offers $30 http://twt.gs/l3Ki\n",
            "\n",
            "RT @GoogleAtWork Gmail maximum attachment size now 25MB http://bit.ly/62mjw Nice!!!\n",
            "\n",
            "RT @acfou The Ads Won Awards for Crispin; But Did Nothing for Client BurgerKing's Sales/Marketshare - Big Surprise - http://ping.fm/vw8TI\n",
            "\n",
            "Hey doll! Great I missed True Blood yday boo lol Rt @FrankBanuat78 @jhillstephens Hello Sunshine how are u today? :-)\n",
            "\n",
            "Australian artist Pogo made these free songs primarily from sampled audio from Alice In Wonderland. http://www.last.fm/music/Pogo/Wonderland\n",
            "\n",
            "@mppritchard they wanted to sell all the preorders & then sell all of the ones they had in stock to those that just walked in. Can't do both\n",
            "\n",
            "Incoming: Frightened Rabbit, Sept. 22 (Tucson): If Fat Cat Records is going to send three great bands from Scot.. http://tinyurl.com/nz6xcv\n",
            "\n",
            "Hey @ginoandfran please greet philip! (GinoandFran live > http://ustre.am/2YyQ)\n",
            "\n",
            "Ik weet niet wie er achter de T-Mobile iPhone Twitter zit maar ik vind het niet echt 'corporate' taalgebruik... Best vreemd eigenlijk\n",
            "\n"
          ]
        }
      ],
      "source": [
        "with open(\"file2\") as f:\n",
        "    for line in f.readlines()[:15]:\n",
        "        print(line)"
      ]
    },
    {
      "cell_type": "markdown",
      "metadata": {},
      "source": [
        "1. Input tweet\n",
        "   \n",
        "Camping in Maine for the weekend. Hey Dad, Mama Loves YOU: http://www.mamapalooza.com\n",
        "\n",
        "1. Tokenized tweet\n",
        "\n",
        "Camping , in , Maine , for , the , weekend , . , Hey , Dad , , , Mama , Loves , YOU , : , http://www.mamapalooze.com\n",
        "\n",
        "2. Input tweet\n",
        "\n",
        "Its american tradition bitch\n",
        "\n",
        "2. Tokenized tweet\n",
        "   \n",
        "Its , american , tradition , bitch\n",
        "\n",
        "3. Input tweet\n",
        "\n",
        "@ThroughTheVoid They love it! The only pleasure they get in life. I actually do that. I'm sure I hear a tiny squeak... Then louder ones\n",
        "\n",
        "3. Tokenized tweet\n",
        "\n",
        "@ThroughTheVoid , They , love , it , ! , The , only , pleasure , they , get , in , life , . , I , actually , do , that , . , I'm , sure , I , hear , a , tiny , squeak , ... , Then , louder , ones \n",
        "\n",
        "4. Input tweet\n",
        "\n",
        "\" RT @latti: @AbsoHilare stop tweeting in church! Lol <--- \"\"I tweet because I'm happy, I tweet because I'm free\"\" LOL!\"\n",
        "\n",
        "4. Tokenized tweet\n",
        "\n",
        "\" , RT , @latti , : , @AbsoHilare , stop , tweeting , in , church , ! , <--- , \" , \" , I , tweet , because , I'm , happy , , , I , tweet , because , I'm , free , \" , \" , LOL , ! , \"\n",
        "\n",
        "5. Input tweet\n",
        "\n",
        "Samsung Mini S2 portable HDD graced with colors that perfectly match your tacky beach gear: Sammy's done it aga.. http://tinyurl.com/lb5p6m\n",
        "\n",
        "5. Tokenized tweet\n",
        "\n",
        "Samsung , Mini , S2 , portable , HDD , graced , with , colors , that , perfectly , match , your , tacky , beach , gear , : , Sammy's , done , it , aga , .. , http://tinyurl.com/lb5p6m\n",
        "\n",
        "6. Input tweet\n",
        "\n",
        "@dialloc congrats on finding your way over. it may be slow going at first. hang in there. it's kinda cool when u get up to speed.\n",
        "\n",
        "6. Tokenized tweet\n",
        "\n",
        "@dialloc , congrats , on , finding , your , way , over , . , it , may , be , slow , going , at , first , . , hang , in , there , . , it's , kinda , cool , when , u , get , up , to , speed , . \n",
        "\n",
        "7. Input tweet\n",
        "\n",
        "iPhone activation delays continue, Apple offers $30 http://twt.gs/l3Ki\n",
        "\n",
        "7. Tokenized tweet\n",
        "\n",
        "iPhone , activation , delays , continue , , , Apple , offers , $30 , http://twt.gs/l3Ki\n",
        "\n",
        "8. Input tweet\n",
        "\n",
        "RT @GoogleAtWork Gmail maximum attachment size now 25MB http://bit.ly/62mjw Nice!!!\n",
        "\n",
        "8. Tokenized tweet\n",
        "\n",
        "RT , @GoogleAtWork , Gmail , maximum , attachment , size , now , 25MB , http://bit.ly/62mjw , Nice, ! , ! , !\n",
        "\n",
        "9. Input tweet\n",
        "\n",
        "RT @acfou The Ads Won Awards for Crispin; But Did Nothing for Client BurgerKing's Sales/Marketshare - Big Surprise - http://ping.fm/vw8TI\n",
        "\n",
        "9. Tokenized tweet\n",
        "\n",
        "RT , @acfou , The , Ads , Won , Awards , for , Crispin , ; , But , Did , Nothing , for , Client , BurgerKing's , Sales , / , Marketshare , - , Big , Surprise , - , http://ping.fm/vw8TI\n",
        "\n",
        "10. Input tweet\n",
        "\n",
        "Hey doll! Great I missed True Blood yday boo lol Rt @FrankBanuat78 @jhillstephens Hello Sunshine how are u today? :-)\n",
        "\n",
        "10. Tokenized tweet\n",
        "\n",
        "Hey , doll , ! , Great , I , missed , True , Blood , yday , boo , lol , Rt , @FrankBanuat78 , @jhillstephens , Hello , Sunshine , how , are , u , today , ? , :-)\n",
        "\n",
        "11. Input tweet\n",
        "\n",
        "Australian artist Pogo made these free songs primarily from sampled audio from Alice In Wonderland. http://www.last.fm/music/Pogo/Wonderland\n",
        "\n",
        "11. Tokenized tweet\n",
        "\n",
        "Australian , artist , Pogo , made , these , free , songs , primarily , from , sampled , audio , from , Alice , in , Wonderland , . , http://www.last.fm/music/Pogo/Wonderland\n",
        "\n",
        "12. Input tweet\n",
        "\n",
        "@mppritchard they wanted to sell all the preorders & then sell all of the ones they had in stock to those that just walked in. Can't do both\n",
        "\n",
        "12. Tokenized tweet\n",
        "\n",
        "@mppritchard , they , wanted , to , sell , all , the , preorders , & , then , sell , all , of , the , ones , they , had , in , stock , to , those , that , just , walked , in , . , Can't , do , both\n",
        "\n",
        "13. Input tweet\n",
        "\n",
        "Incoming: Frightened Rabbit, Sept. 22 (Tucson): If Fat Cat Records is going to send three great bands from Scot.. http://tinyurl.com/nz6xcv\n",
        "\n",
        "13. Tokenized tweet\n",
        "\n",
        "Incoming , : , Frightened , Rabbit , , , Sept , . , 22 , ( , Tuscon , ) , : , If , Fat , Cat , Records , is , going , to , send , three , bands , from , Scot , .. , http://tinyurl.com/nz6xcv\n",
        "\n",
        "14. Input tweet\n",
        "\n",
        "Hey @ginoandfran please greet philip! (GinoandFran live > http://ustre.am/2YyQ)\n",
        "\n",
        "14. Tokenized tweet\n",
        "\n",
        "Hey , @ginoandfran , please , greet , philip , ! , ( , GinoandFran , live , > , http://ustre.am/2Yy , )\n",
        "\n",
        "15. Input tweet\n",
        "\n",
        "Ik weet niet wie er achter de T-Mobile iPhone Twitter zit maar ik vind het niet echt 'corporate' taalgebruik... Best vreemd eigenlijk\n",
        "\n",
        "15. Tokenized tweet\n",
        "\n",
        "Ik , weet , niet , wie , er , achter , de , T-Mobile , iPhone , Twitter , zit , maar , ik , vind , het , niet , echt , ' , corporate , ' , taalgebruik , ... , Best , vreemd , eigenlijk"
      ]
    },
    {
      "cell_type": "markdown",
      "metadata": {
        "id": "-2J2AD2nmUhi"
      },
      "source": [
        "## Task 2. Implement [Byte-Pair Encoding(BPE)](https://arxiv.org/pdf/1508.07909.pdf) Tokenizer (80 points)\n",
        "\n",
        "### Task 2.1. Implementation (60 points)\n",
        "\n",
        "Implement the tokenizer as the BPETokenizer class:\n",
        "* Implement `train` method that learns merges and builds the vocabulary of the specified `vocab_size` (25 points).\n",
        "* Implement `tokenize` method that should tokenize the text according to the learnt merges (25 points).\n",
        "\n",
        "Your code should have docstrings and comments (10 points)."
      ]
    },
    {
      "cell_type": "code",
      "execution_count": 5,
      "metadata": {},
      "outputs": [],
      "source": [
        "from collections import Counter\n",
        "from typing import List\n",
        "import re\n",
        "from tqdm import trange\n",
        "\n",
        "class BPETokenizer:\n",
        "    \n",
        "    def __init__(self, vocab_size: int) -> None:\n",
        "        self.vocab_size = vocab_size\n",
        "\n",
        "\n",
        "    def _generate_corpus(self, corpus: List[str]):\n",
        "        initial_chars = Counter()\n",
        "        frequencies = {}\n",
        "        for line in corpus:\n",
        "            words = line.split()\n",
        "            for word in words:\n",
        "                initial_chars = initial_chars + Counter(word)\n",
        "                word = ' '.join(word)\n",
        "                if word in frequencies:\n",
        "                    frequencies[word] += 1\n",
        "                else:\n",
        "                    frequencies[word] = 1\n",
        "        return list(initial_chars.keys()), frequencies\n",
        "    \n",
        "    def _count_stats(self, corpus):\n",
        "        pairs = {}\n",
        "        for word, freq in corpus.items():\n",
        "            symbols = word.split()\n",
        "            for i in range(len(symbols)-1):\n",
        "                c_pair = (symbols[i], symbols[i+1])\n",
        "                pairs[c_pair] = pairs.get(c_pair, 0) + freq\n",
        "        return pairs\n",
        "    \n",
        "    def _merge_vocab(self, best: str, corpus):\n",
        "        out = {}\n",
        "        bigram = re.escape(' '.join(best))\n",
        "        p = re.compile(r'(?<!\\S)' + bigram + r'(?!\\S)')\n",
        "        for word in corpus:\n",
        "            w_out = p.sub(''.join(best), word)\n",
        "            out[w_out] = corpus[word]\n",
        "        return out\n",
        "                \n",
        "    def train(self, corpus: List[str]) -> None:\n",
        "        init_chars, corpus = self._generate_corpus(corpus)\n",
        "        self.vocab = init_chars\n",
        "        for i in trange(self.vocab_size - len(init_chars)):\n",
        "            pairs = self._count_stats(corpus)\n",
        "            best = max(pairs, key=pairs.get)\n",
        "            corpus = self._merge_vocab(best, corpus)\n",
        "            self.vocab.append(''.join(best))\n",
        "            \n",
        "        # self.vocab.sort(key=len, reverse=True)\n",
        "        self.vocab = [\"</UNK>\", \" \"] + self.vocab\n",
        "        self.vocab_idx = {self.vocab[i]:i for i in range(len(self.vocab))}\n",
        "\n",
        "    def tokenize(self, text: str) -> List[str]:\n",
        "        tokens = [0] # 0 is for unknown token\n",
        "        lb = 0\n",
        "        rb = 0\n",
        "        while rb < len(text):\n",
        "            if text[lb: rb + 1] in self.vocab_idx:\n",
        "                tokens[-1] = self.vocab_idx[text[lb: rb + 1]]\n",
        "            else:\n",
        "                tokens.append(0)\n",
        "                if lb == rb:\n",
        "                    lb += 1\n",
        "                else:\n",
        "                    lb = rb\n",
        "                    rb -= 1\n",
        "            rb += 1\n",
        "        return tokens\n",
        "    \n",
        "    def detokenize(self, tokens: List[int]) -> str:\n",
        "        out = \"\"\n",
        "        for token in tokens:\n",
        "            out += self.vocab[token]\n",
        "        return out"
      ]
    },
    {
      "cell_type": "code",
      "execution_count": 6,
      "metadata": {},
      "outputs": [
        {
          "name": "stderr",
          "output_type": "stream",
          "text": [
            "100%|██████████| 32/32 [00:00<00:00, 6679.83it/s]"
          ]
        },
        {
          "name": "stdout",
          "output_type": "stream",
          "text": [
            "[2, 1, 27, 1, 21, 1, 28, 8, 9, 3, 19]\n"
          ]
        },
        {
          "name": "stderr",
          "output_type": "stream",
          "text": [
            "\n"
          ]
        },
        {
          "data": {
            "text/plain": [
              "'I am is kosta!'"
            ]
          },
          "execution_count": 6,
          "metadata": {},
          "output_type": "execute_result"
        }
      ],
      "source": [
        "a = BPETokenizer(50)\n",
        "a.train([\"I am konstantin and I aboba\", \"is it correct to do\", \"do it right now!\", \"is it\", \"is it we\", \"to do\", \"nower\"])\n",
        "tokens = a.tokenize(\"I am is kosta!\")\n",
        "print(tokens)\n",
        "a.detokenize(tokens)"
      ]
    },
    {
      "cell_type": "markdown",
      "metadata": {},
      "source": [
        "### Task 2.2. Analysis on Tweets Dataset (10 points)\n",
        "\n",
        "Train the BPE tokenizer on the tweets dataset. Try to tokenize the tweets with the tokenizer of different `vocab_size`. For example, train the BPE tokenizer with `vocab_size` of [base_vocab_size, 250, 500, 750, 1000]. Plot the dependency of the average length of the tokenized tweet by `vocab_size` to analyze how `vocab_size` affects the length of the tokenized tweet on average. Tell what `vocab_size` is preferrable and why."
      ]
    },
    {
      "cell_type": "code",
      "execution_count": 7,
      "metadata": {},
      "outputs": [
        {
          "data": {
            "text/plain": [
              "'@anitapuspasari waduh..\\n'"
            ]
          },
          "execution_count": 7,
          "metadata": {},
          "output_type": "execute_result"
        }
      ],
      "source": [
        "tweets[0]"
      ]
    },
    {
      "cell_type": "code",
      "execution_count": 8,
      "metadata": {},
      "outputs": [
        {
          "name": "stderr",
          "output_type": "stream",
          "text": [
            " 43%|████▎     | 36/84 [00:00<00:00, 113.58it/s]"
          ]
        },
        {
          "name": "stderr",
          "output_type": "stream",
          "text": [
            "100%|██████████| 84/84 [00:00<00:00, 110.43it/s]\n",
            "100%|██████████| 334/334 [00:02<00:00, 124.99it/s]\n",
            "100%|██████████| 584/584 [00:04<00:00, 132.36it/s]\n",
            "100%|██████████| 834/834 [00:06<00:00, 137.96it/s]\n"
          ]
        }
      ],
      "source": [
        "avg_values = []\n",
        "vocab_sizes = [250, 500, 750, 1000]\n",
        "for vocab_size in vocab_sizes:\n",
        "    c_tokenizer = BPETokenizer(vocab_size)\n",
        "    c_tokenizer.train(tweets)\n",
        "    avg_values.append(sum([len(c_tokenizer.tokenize(tweet)) for tweet in tweets]) / len(tweets))\n"
      ]
    },
    {
      "cell_type": "code",
      "execution_count": 9,
      "metadata": {},
      "outputs": [
        {
          "data": {
            "image/png": "[encoded data removed]",
            "text/plain": [
              "<Figure size 640x480 with 1 Axes>"
            ]
          },
          "metadata": {},
          "output_type": "display_data"
        }
      ],
      "source": [
        "import matplotlib.pyplot as plt\n",
        "\n",
        "plt.ylabel(\"Average length of tokenized tweet\")\n",
        "plt.xlabel(\"Vocabular size\")\n",
        "plt.plot(vocab_sizes, avg_values)\n",
        "plt.scatter(vocab_sizes, avg_values)\n",
        "plt.show()"
      ]
    },
    {
      "cell_type": "markdown",
      "metadata": {},
      "source": [
        "The bigger vocabular size the less average length of token. It is obvious because even adding one token that is bigger can reduce at least one word in token size. Thus, can affect average length. But the vocab size we have the less effect will it add, because last added tokens are not so popular."
      ]
    },
    {
      "cell_type": "markdown",
      "metadata": {},
      "source": [
        "### Task 2.3. Analysis on Dataset of Different Language (10 points)\n",
        "\n",
        "Find a small dataset of texts in a language other than English. The dataset size should be not greater than several megabytes.\n",
        "\n",
        "Train the BPE tokenizer on the dataset that you found. Try to tokenize the sentences from this dataset with the tokenizer of different `vocab_size`. Plot the dependency of the average length of the tokenized sentence by `vocab_size` to analyze how `vocab_size` affects the length of the tokenized sentence on average.\n",
        "\n",
        "Tell how how the average length of the tokenized sentence differs from the average length of the tokenized tweet. Explain why. "
      ]
    },
    {
      "cell_type": "markdown",
      "metadata": {},
      "source": [
        "I used mongolian language dataset. It is corpus from news from some channel in Mongolia. Taken from https://github.com/tugstugi/mongolian-nlp (https://yadi.sk/d/z5e3MVnKvFvF6w?fbclid=IwAR2wRJ4fRRMSDI8rhbNLdU2n_RiK08hU2rKwXwI7rc6JN2YNTeTna8xOOlg direct link). I used only part of `news_01.txt` to make it less than several megabytes."
      ]
    },
    {
      "cell_type": "code",
      "execution_count": 10,
      "metadata": {},
      "outputs": [
        {
          "data": {
            "text/plain": [
              "['\\ufeffүнэд нөлөөлөх учиргүй Өнөөдөр манай улсын иргэдийн амжиргааны түвшин маш доогуур байгаа. Энэ нь цалин хөлстэй холбоотой аж. Хөдөлмөр эрхэлж буй иргэд цалингаас цалингийн хооронд амьдарч байгаа ба сүүлийн үед юмны үнэ нэмэгдэх болсон нь нийгэмд санхүүгийн хүнрэлийг бий болгоод буй. Учир нь бараа бүтээгдэхүүний үнэ нэмэгдээд байдаг боловч цалин хөлсний үнэ огт нэмэгдэхгүй бөгөөд тэрхүү үнэ нь нэмэгдсэн бараа бүтээгдэхүүнийг худалдан авах хэрэглээгээ хангахад сарын цалин нь хаанаа ч хүрэхгүй байгаа юм. Он гарсаны дараа тэтгэвэр, тэтгэмжийн хэмжээг бага хувиар нэмсэн. Гэхдээ нэмлээ гээд нэх шалисан юмгүй байгаад иргэд бухимдалтай хандаж буй юм. Түүнчлэн хамгийн хариуцлагатай, өндөр мэдлэг боловсрол шаардагддаг мэргэжлийн нэг болох багш нарын цалин нэмэгдэхгүй хэвээр байсаар буй. Багш нар хүүхдийн хүмүүжил болоод мэдлэг боловсролд ихээхэн анхаарал хандуулж ажилладаг нэгэн. Харин тэдний авч буй цалин нь хийсэн хөдөлмөрөөсөө бага байгаа аж. Нэг ёсондоо багш нарын хөдөлмөрийг үнэлж чадахгүй хэрэг. Цэцэрлэгийн багш нар ч мөн ялгаагүй өндөр хариуцлага хүлээж ажилладаг байна. Тэднийг загинаж, донгодох хүн олон. Хүүхдээ зөв хүмүүжилтэй, боловсролтой нэгэн болгох гэж цэцэрлэг сургуульд явуулдаг. Харин тэднийг зөв хүн болж төлөвшихөд нь багш нар хамгийн их тусалдаг атал тэднийг ажлаа сайн хийдэггүй гэх мэтээр загинаж арга хэмжээ авхуулна гэх зэрэг болчимгүй үг хэллэг, үйлдэл гаргадаг хүмүүс бол эцэг эхчүүд. Эцэг эхчүүд ч гэсэн өөрсдөө ажил хийж цалин авдаг атал багш нарыг хүн чинээ тоохгүй байгаа нь илт ажиглагдаж байна. Тэгвэл Монголын үйлдвэрчний эвлэлийн холбооноос удаа дараа шаардлага хүргүүлсний дагуу Хөдөлмөр, нийгмийн зөвшилцлийн Үндэсний гурван талт хороо өчигдөр хуралдсан байна. Хуралдаанаар эхний ээлжинд цалин, тэтгэврийг нэмэгдүүлэх талаархи асуудлыг Засгийн газрын хуралдаанаар шийдвэрлүүлэхээр бэлтгэл ажил хангах чиглэл гаргасан байна. Хөдөлмөр, нийгмийн зөвшилцлийн Үндэсний гурван талт хороонд МҮЭХ, Засгийн газар, ажил олгогч эздийн холбооны төлөөлөл багтдаг бөгөөд энэ хороог Хөдөлмөрийн сайд Я.Санжмятав ахлан ажилладаг юм. МҮЭХ-оос эмч, багш зэрэг зарим мэргэжлийн цалинг нэмэгдүүлэх талаар Үндэсний гурван талт хороонд шаардлага хүргүүлээд байгаа юм байна. Тиймээс багш нарын цалин нэмэгдэх магадлал бий аж. Угтаа бол багш нарын цалинг нэмэхэд асуудал байхгүй билээ. Өнөөдөр бараа бүтээгдэхүүний үнэ хурдтай өсч байгаа энэ үед тэдний цалин хаанаа ч хүрэхгүй байгаа юм. Нэг ёсондоо Бараа бүтээгдэхүүн, ажил үйлчилгээний үнэ тариф өсч, иргэдийн цалин, тэтгэвэр, тэтгэмжийн бодит худалдан авах чадвар дордож байна. Гэхдээ ганц багш гэлтгүй бусад мэргэжлийн цалин хөлсийг нэмэх шаардлага нийгэмд зайлгшүй бий болоод буй юм. Түүнчлэн цалин нэмэгдэх сургаар бараа бүтээгдэхүүний үнэ дагаж нэмэгддэг. Энэ нь наймаачдын шуналаас болж буй үнийн хөөрөгдөл бөгөөд хэрэв цалин нэмэхэд бараа бүтээгдэхүүний үнэ дагаж нэмэгдвэл цалин нэмсэний ашиг гарахгүй болно. Тиймээс өнөөдөр бараа бүтээгдэхүүний үнийг тогтворжуулж, үнийг хянаж байх хэрэгтэй юм. Өнөөдөр манай наймаачид ямар ч хяналтгүй өөрсдийн дураар үнийн хөөрөгдлийг бий болгосоор байгаа ба тэдний хэт их шунал эдийн засагт сөргөөр нөлөөлж буй. Багш нар болон бусад мэргэжлийн цалин хөлс нэмэгдэхэд бараа бүтээгдэхүүний үнэ өөрчлөгдөх учиргүй билээ. Үүгээр ч зогсохгүй нийгэмд банкны зээл аваагүй хүн гэж үгүй болоод буй. Багш нарч мөн ялгаагүй өрөнд орсоор л байгаа юм. Ингээд банкны зээл авч сарынхаа цалингаар төлөх болно. Гэтэл өнөөх цалин нь зээлдээ ихэнх хувь нь яваад үлдсэн хэдэн төгрөгөөр дараагийнхаа цалин хүртэл гүрэлзэх болно. Хэрэглээгээ танаад ч тэрхүү үлдсэн мөнгө нь хаанаа ч хүрэхгүй аж. Тиймээс хөдөлмөр эрхлэгчдын цалин хөлсийг нэмж бараа бүтээгдэхүүний үнийг тогтворжуулах нь зайлшгүй хийх ажлын нэг болоод байна. 1 цаг 2 минутын өмнө Ч.Гэрэлтуяа \\n',\n",
              " 'Нийслэл Улаанбаатар хот маань хэдийн сая давсан хүн амтай болж дэлхийн бусад хотуудын жишгээр замнаж байна. Тиймдээ ч тэдгээр хотуудад тохиолддог зовлон бэрхшээл биднийг ч бас тойрсонгүй. Утаа униар, замын түгжрэл, хог шороо, гэрэлтүүлэг гээд л точоод байвал тоймгүй их бөгөөд нилээдгүй хөрөнгө мөнгө, хөлс хүч шаардаад буй. Гэсэн ч эдэн дунд бас хөрөнгө мөнгө, хүн хүч гэхээсээ илүүтэйгээр Нийслэлчүүд бидний \"Сэтгэл\" дутсан ажиллууд ч цөөнгүй байна. Өнгөрөгч жилүүдэд Монголчууд ардчиллын салхинд туугдан гадаадаар гангарах хэнээрхэлээсээ болоод Нийслэл хотынхоо нүүр царайг хэрхэн баллачихсанаа анзаарсангүй явжээ. Булан тохой байшин барилга бүр дээр л гадаад үсэг бүхий элдэв дээдийн хаяг реклам өнгө, үсэг алаглан шавалдаж, Монгол орон харь орны бичиг үсгийн цуглуулга аятай харагдах болоод удав. Тиймээс ч сүүлийн жилүүдэд иргэдээс энэ бүхнийг эмх цэгц, дэг журамтай болгох талаар буюу албан байгууллага, аж ахуйн нэгжийн хаягийг \"эх хэлээрээ\" бичих санал санаачлага цөөнгүй гарах болсон. Энэ дагуу ч НИТХ-аас тогтоол гаргаж уг байдлыг цэгцлэхээр \"Нийслэлийн худалдаа, үйлчилгээний нийтлэг журам\" буюу аж ахуйн нэгж, байгууллагуудын хаяг гэрэлтүүлэг, гэрлэн чимэглэлтэй байхаас гадна хаяг заавал монгол хэлээр бичигдсэн байх, хэрэв гадаадаар бичих шаардлагатай бол тэр нь монгол хэлээр бичигдсэн хаягийн дор жижгээр тавигдсан байх зэргийг тогтоосон. Одоогоос дөрвөн жилийн өмнө бас л ийм утга агуулга бүхий журмыг баталж байсан ч огт хэрэгжээгүй гэдгийг өнөөгийн Улаанбаатарын өнгө зүс бэлхэнээ илтгэнэ.Тиймээс дөрвөн жилийн өмнөх журмыг энэ удаад бага зэрэг шинэчлэн дахин мөрдөхөөр болж байгаа нь энэ. Тиймээс НИТХ-ын тогтоол хүчин төгөлдөр үйлчилж эхэлсэн нэг сарын хугацаанд ажил хэрэг тааруухан явагдаж байгааг энд сануулмаар. Эрээн мяраан элдэв маягийн өнгө, үсэг мөн л янзаараа.     3 цаг 47 минутын өмнө Б.Баттулга  \\n',\n",
              " 'зарцуулсан бэ, А.Эрдэнэтуяа Шинэ оны эхний өдрүүдэд Эрүүл мэндийн яамны Төрийн нарийн бичгийн дарга А.Эрдэнэтуяатай холбоотой таагүй мэдээллүүд түгж байв. Тодруулбал, тэрбээр Сонгинохайрхан дүүргийн Эрүүл мэндийн нэгдлийн дарга байхдаа \"Эрүүл хүүхдийн аяны санхүүжилт\"-ийн мөнгийг дур мэдэн ашиглаж баахан будлиан дэгдээсэн нь аудитын шалгалтаар илэрсэн байсан. Тухайн үед энэ асуудлаар Үндэсний аудитын газрынхан Сонгинохайрхан дүүргийн Эрүүл мэндийн нэгдсэн дарга Ж.Хажидмаад албан тоот хаяглаж \"Өнгөрсөн онд нийлүүлэх бүтээгдэхүүн, ажил үйлчилгээний төлөвлөгөөний дагуу \"Эрүүл хүүхэд аяны санхүүжилт, үр дүн\"-д аудит хийхэд дээрх мөнгөөр эмнэлгийн тоног төхөөрөмж худалдаж авахын зэрэгцээ 40 сая 237 мянган төгрөгийг ажилчдынхаа нийгмийн даатгалын шимтгэлд өгсөн байна. Мөн 10 сая 854 мянган төгрөгийг байгууллагын үйл ажиллагаанд зарцуулсан, 51 сая төгрөгийг хүүхдийн үзлэгт хамруулсан гэж байгаа ч ямар ч нотлох баримтгүйг гээд нийт 106 сая 21 мянга 60 төгрөгийн зөрчил илэрлээ. Энэ нь Нийгмийн даатгалын тухай хууль болон Эрүүл мэндийн сайдын 2012 оны 2\\\\997 тушаалыг зөрчсөн үйлдэл\" хэмээсэн байсан. Гэвч хатагтай А.Эрдэнэтуяа энэ асуудалд ямар нэг хариу өгөөгүй, хар цагаан дуугүй өнгөрөөсөн. Тэгвэл түүнтэй холбоотой бас нэг дуулиан дэгдэж мэдэхээр болоод байна. Энэ нь А.Эрдэнэтуяа мөн л Сонгинохайрхан дүүргийн Эрүүл мэндийн нэгдлийн даргын албыг хашиж байхдаа Эрүүл мэндийг дэмжих сангаас авсан 160 сая төгрөгийг хааш юунд зарцуулсан нь тодорхойгүй болоод байгаа аж. Энэ тухай эх сурвалжууд мэдээлж, \"А.Эрдэнэтуяагийн Эрүүл мэндийн нэгдлийн дарга байхдаа авсан мөнгийг хэрхэн яаж зарцуулсан талаархи задаргаа, тайланг авах гэсэн биш нэлээд ноцтой байж мэдэх асуудлын араас орчих шиг боллоо\" гэдгийг хэлж байгаа юм. Энэ тухай тэднээс тодруулахад Эрүүл мэндийг дэмжих сангаас эрүүл мэндийн нэгдлүүдэд өрхийн эмнэлгүүдийг дэмжих, үйл ажиллагааг нь сайжруулах зорилгоор мөнгө хуваарилахад тухайн үед А.Эрдэнэтуяа 160 сая төгрөг авсан юм байна. Иймээс Эрүүл мэндийг дэмжих сан болон аудитын газрынхан тэр мөнгөө хэрхэн зарцуулсан талаар дэлгэрэнгүй тайлангаа явуул гэтэл тус эмнэлгийн шинэ дарга нь \"Наад асуудлыг чинь бид мэдэхгүй. Өмнөх удирдлагатай холбоотой байх\" гэснээр асуудал үүсчээ. Хамгийн ноцтой нь дээрх мөнгө А.Эрдэнэтуяаг дарга байхад Сонгинохайрхан дүүргийн Эрүүл мэндийн нэгдлийн данс руу шилжсэн атлаа өрхийн эмнэлгүүдэд огт хуваарилагдаагүй, хаашаа ямар нэртэй байгууллага, хэн гэдэг хүний данс руу орсон нь мэдэгдэхгүй замаасаа алга болчихоод байгаа. Иймээс л энэ асуудал олон хүнийг гайхшруулж орхисныг хэлж байна. Түүнчлэн энэ хэрэгтэй холбоотой бас ноцтой байж мэдэх мэдээлэл нь А.Эрдэнэтуяаг тус дүүргийн Эрүүл мэндийн нэгдаийн дарга байхад ерөнхий нягтлан бодогчоор ажиллаж байсан эмэгтэйн нэр дээр байдаг гэх \"Зандан ташуур\" компаниар дамжуулан тус эмнэлгийн аж ахуйн талын бүх зүйлийг захиалгаар гүйцэтгэдэг байсан гэх мэдээлэл байна. Тиймээс энэ асуудлын мөрөөр Эрүүл мэндийг дэмжих сангийнхан ч, аудитынхан ч А.Эрдэнэтуяад 160 сая төгрөгийн тайлангаа гаргаж өг гэсэн шаардлагыг тавиад байгаа гэнэ. Ер нь А.Эрдэнэтуяа гэх эмэгтэй олон таагүй зүйлд нэр холбогдож байсан мэдээлэл байдаг. Тухайлбал, тэрбээр Төрийн нарийн бичгийн дарга болохоосоо өмнө Чингисийн талбай дээр \"Бүх нийтийн биеийн тамир\" гэсэн сайхан уриан дор хэдэн хүн цуглуулж, гимнастик хийлгээд 100 сая төгрөг авсан тухай мэдээлэл бий. Гэвч тэрбээр энэ талаар ямар нэг тайлбар хийгээгүй бөгөөд ямартай ч Эрүүл мэндийн сайд Н.Удвалын итгэлт хүн гэдэг нэрийн дор хууль бусаар Төрийн нарийн бичгийн даргын суудалд суусаар байгаа. Уг нь Н.Удвал сайд өөрийн багт ажиллаж буй хүмүүсээ хэнийг нь хэн бэ гэдгийг сайн мэдэж байх учиртай. Бас нэр цэвэр хүмүүсээр багаа бүрдүүлэх ёстой. Гэвч тэрбээр энэ бүхнийг анзаардаггүй юу, эсвэл хүний тарьсан балаг надад хамаагүй гэдэг үү ямартай ч ийм нэг асуудалтай хүн Шинэчлэлийн Засгийн газрын багт багтжээ. Уг нь эрүүл мэндийн салбарынхан Н.Удвал сайдыг эмч нарынхаа зовлон жаргалыг мэддэг, чадалтай, тулхтай хүн хэмээдэг юм билээ. Гэвч түүний бүрдүүлсэн багийнхан энэ мэт ноцтой асуудалд байнга нэр холбогддогоос болж сайдынхаа нэрийг шаварт хутгаж мэдэхээр болоод байна. Хамгийн сонирхолтой нь тэд энэ хууль бус үйлдлээ сайддаа хэрхэн тайлбарладаг нь анхаарал татаж байна. Л.ОЮУН 3 цаг 59 минутын өмнө undesten \\n',\n",
              " 'Энэ онд нүүрсний экспорт нэмэгдэж хэмээж байсан боловч эсрэгээрээ байх бололтой. Учир нь манай уул уурхайн бүтээгдэхүүний гол хэрэглэгч бол Хятад улс гэвч тус улс энэ онд нүүрсний импортоо хумихаар болжээ. Тэгэхээр манай нүүрсний эскспортын хэмжээ буурах хандлагатай болоод буй. Түүнчлэн Өмнөх жилийн ажлын хувьд Монголоос Хятад руу гаргах экспортын ачааны тээврийн хэмжээ биелээгүй. Учир нь дэлхийн зах зээл дээр төмрийн хүдрийн ханш буурсантай холбоотой. Тиймээс бид энэ жилээс нүүрс гаргах талаар ярьж байгаа бөгөөд энэ тал дээр Зам тээврийн яам дэмжлэг үзүүлж байгаа юм байна. Мөн Оросын талаас манайхаар дамжуулан төмрийн хүдэр, нүүрс тээвэрлэх асуудал гарч байна. Сүүлийн таван жил дараалан төмөр замаар нүүрс аваагүй. Тэгэхээр урд хөрш нүүрсийг авах эсэхээс бүх зүйл шалтгаална. Хятад руу төмөр замаар нүүрс тээвэрлэхэд бид гол анхаарлаа хандуулаад буй. Мөн өнгөрсөн жил 21 сая тонн ачаа тээвэрлэсэн. Одоогоор 23 сая тонныг тээвэрлэх бололцоо бий бөгөөд 2016 оноос ачаа тээврийн хэмжээ 34 сая тонн болох боломжтой аж. 2008, 2009 оны эдийн засгийн хямралтай байх үед 45 тэрбум төгрөгийн хөрөнгө оруулалт хийж байсан. Жилд дунджаар 75-80 тэрбум төгрөгийн хөрөнгийн асуудлыг шийдвэрлэдэг. Ямартай ч төмөр замаар нүүрс тээвэрлэх асуудал яригдаж байгаа бөгөөд тээвэрлэлтийн зардал ихээхэн хэмжээний алдагдлыг бий болгоод байсан бол төмөр замаар тээвэрлэх нь ийн алдагдлыг бууруулах учиртай гэнэ. 13 минут 31 секундын өмнө Ч.Гэрэлтуяа  \\n',\n",
              " 'Олон улсын эмэгтэйчүүдийн эрхийг хамгаалах өдрийг тохиолдуулан \"Их хотын охид\" чуулга уулзалтыг 2014 оны 3-р сарын 06-ны өдөр Монголын Хүүхдийн ордонд 09:00-12:00 цагт Нийслэлийн Хүүхэд, гэр бүлийн хөгжлийн газар, Монголын сурагчдын холбоо хамтран зохион байгуулна. Тус чуулга уулзалтад ХТҮГ-ын дарга И.Нарантуяа оролцон \"Амьдралын боловсрол\" сэдвээр охидуудтай санал солилцоно. Чуулга уулзалтад 500 гаруй охидууд оролцох юм. Мэдээллийг 88051070, 88118626, 97077008 утсаар торуулна уу. 19 минут 35 секундын өмнө Д.Жансэнм  \\n',\n",
              " '30,000 жилийн турш идэвхгүй байдалд байсан эртний нянг олсон тухай эрдэмтэд мэдэгдлээ. Уг нян нь Сибирийн мөнх цэвдгийн гүн давхаргад хөлдүү байдалтайгаар олдсон боловч энэ нь хайлсныхаа дараа дахин идэвхжиж, дахин халдварлах талтай гэдгийг тэд мэдэгдсэн юм. Францын эрдэмтдийн мэдэгдэж буйгаар энэхүү халдварт нян нь хүн болоод амьтанд аюулгүй боловч бусад нянг чөлөөлж, идэвхжихэд нөлөөлдөг гэдгийг судлаачид тогтоожээ. Уг судалгаа нь Үндэсний Шинжлэх ухааны хүрээлэнгийн бүтээлд нийтлэгдсэн аж. Үндэсний Шинжлэх ухааны судалгааны хүрээлэн дэх профессор Жан-Мишель Клавери нь Франц дахь Эйкс-Марсейллегийн их сургуульд үг хэлэхдээ, \"Ийм урт удаан хугацааны дараа ч идэвхтэй байх боломжтой энэ нянг хүн төрөлхтөн анх удаа илрүүлж байна\" хэмээн мэдэгдсэн байна. 39 минут 40 секундын өмнө Б.Болормаа  \\n',\n",
              " 'Энэ сарын 4-5-нд цагдаагийн байгууллагад иргэд, аж ахуйн нэгж байгууллагаас гэмт хэрэг, зөрчлийн 1600 дуудлага, мэдээлэл шалгагдаж, гэмт хэргийн шинжтэй 54 үйлдлийг бүртгэн холбогдох нэгжүүд шалгаж, 35 хэргийн эзэн холбогдогчийг илрүүлжээ. Нийслэлд бусдын биед гэмтэл учруулах 1, хулгайлах 21, булаах 2, танхайрах 10, мөнгөн тэмдэгт хуурамчаар үйлдэх 1, зам тээврийн хэрэг 11, осол 17 гарч 13 хүн гэмтсэн байна. 44 минут 45 секундын өмнө А.Алтанзул  \\n',\n",
              " 'СТА жүжигчин Г.Ундармаагийн эхлүүлсэн \"Итгэлийн танхим\" төсөл Эх хүүхдийн эрүүл мэндийн үндэсний төвд үргэлжлэхээр болжээ. Тэрээр оны өмнөхөн УКТЭ-ийн Яаралтай түргэн тусламжийн төвийн хүлээлгийн танхимыг засч тохижуулсан бөгөөд энэ үедээ \"Итгэлийн танхим\" ТББ-ыг байгуулаад амжсан билээ. Жүжигчин бүсгүй Эх нялхсын хүлээлгийн танхимыг тохижуулахаар болсон тухайгаа \"Америкт байгаа сайн үйлстэн эмэгтэйчүүдийн чуулга уулзалтанд оролцохоор боллоо. Ирээд \"Итгэлийн танхим\" ТББ Монголын ирээдүй болсон хүүхдүүдийн маань эмчлүүлдэг Эх нялхсын хүлээлгийн танхимыг засварлан тохижуулах ажлаа эхлүүлнэ хэмээжээ. 48 минут 50 секундын өмнө Д.Жансэнм  \\n',\n",
              " 'сайдад хүсэлт гаргалаа Боловсрол, шинжлэх ухааны яамны сайд Л. Гантөмөр танаа Хүсэлт гаргах нь Бидний залуус монгол үндэсний уламжлал, соёл, ёс заншлаа дээдлэн хадгалж, өвлүүлэн уламжлуулах нь монгол үндэстний оршин тогтнохын нэг баталгаа гэсэн итгэл үнэмшилтэй байдаг. Даяаршин өөрчлөгдөж буй энэ дэлхийн нэгэн хэсэг болох манай улсад хотжих явц эрчтэй явагдаж, бидний дараагийн үе маань монгол ахуй соёлоосоо улам алсран холдож байгаад ихэд сэтгэл зовниж явдаг юм. Бидний дүү нар шинжлэх ухаан, техник, технологийн ололт амжилтыг алхам тутамдаа хүртэн компьютер, гар утас тэдний өдөр тутмын хэрэглээ болж, мэдээллийн эрин зууны үр шимийг гадаадын үе тэнгийн хүүхдүүдээсээ дутахгүй хүртэж байна. Хэдий тийм боловч уламжлалт монгол ахуй, соёлтойгоо танилцах боломж ялангуяа, хот суурин газрын хүүхдүүдэд хомс байгаа нь бодит байдал билээ. Тухайлбал, нүүдэлчдийн орон сууц болох монгол гэр барих арга ажиллагааг мэддэг хүүхэд хот суурин газрын хүүхдүүдийн дунд маш цөөн, мэддэг байлаа ч үүнийгээ практикт ашиглах боломж тааруу, эсхүл, том хүмүүсийн зааварчилгаан дор хийж гүйцэтгэхээс бие дааж гэр барих мэдлэг чадвар байхгүй бүхэл бүтэн үе өсч байна. Иймд, бидний залуучууд эхний ээлжинд Улаанбаатар хотын ерөнхий боловсролын 207 сургуулийн хичээлийн хөтөлбөрт энэ тухай оруулах, сургалтын зорилгоор ашиглаж болохуйц овор багатай монгол гэр хандивлах уриалга цахим ертөнцөд гаргасан юм. Өнөөдрийн байдлаар Фэйсбүүк хуудсаар 1300 хүн (Like), твиттэр хуудсаар 1033 хүнээс (Retweet) дэмжлэг аваад байна. Бидний судалж үзсэнээр манай ерөнхий боловсролын сургуулийн хичээлийн хөтөлбөрт монгол гэрийн тухай ойлголт өгөх асуудал тархмал байдаг юм байна. Тодруулбал, монгол гэрийн бүрдэл хэсгүүдийн тухай ойлголтыг 3-р ангийн Монгол хэлний хичээлээр ялгах гишүүн үзэхэд (хана, туурга гм) өгдөг бол 4-5 дугаар ангийн Иргэний боловсрол хичээлээр зураг үзүүлж, нүүдэлчдийн сууц монгол гэр нь урцнаас үүсэлтгэй гм-ээр тайлбарладаг аж. Мөн 5-р ангийн Хүн орчин хичээл дээр цухас дурдагдаад өнгөрдөг байна. Монгол ахуй соёлоо хайрлан хамгаалж, өвлүүлэн үлдээх, \"Зөв Монгол хүүхэд\" төлөвшүүлэх боловсролын салбарын өнөөгийн зорилтыг дэмжиж, залуус бид ерөнхий боловсролын сургуульд Иргэний боловсрол хичээлээр олгох монгол гэрийн тухай мэдлэгийг илүү практикт ойртуулах, монгол уламжлал, зан заншлаа өвлүүлэн, хадгалж үлдэхэд нь дэмжлэг болгох зорилгоор \"Монгол гэр\" төслийг санаачлав. Энэхүү төслийн зорилго нь Улаанбаатар хотын төрийн өмчийн 111 сургуульд 10-12 настай хүүхдийн бие, физиологи, сэтгэхүйн онцлогт тохирсон, овор багатай, загвар гэр үнэ төлбөргүйгээр нийлүүлэхэд юм. Мөн гэр барих, хураахтай холбоотой гарын авлага материал, видео хичээлийг бэлтгэхэд тусламж, дэмжлэг үзүүлэх болно. Гагцхүү, бидний энэхүү төсөл бодит үр шимээ өгөхийн тулд салбарын яамны дэмжлэг бодлого, зохион байгуулалтын түвшинд хэрэгтэй байгааг анхааран үзэж, энэхүү хүсэлтийг гаргалаа. Эрхэм сайд таныг Хойч үедээ монгол гэр барих, буулгах дадал олгох зорилго бүхий энэхүү санаачлагыг дэмжин ажиллаж, 2014-2015 оны хичээлийн жилээс энэхүү төсөл амжилттай хэрэгжиж эхлэн бодит ажил болно гэж гүнээ найдаж байна. Хүндэтгэсэн \"Монгол гэр\" төслийг санаачлагч Г. Бат-Эрдэнэ 2014.02.19 54 минут 54 секундын өмнө А.Алтанзул \\n',\n",
              " 'Каирт өнгөрсөн мягмар гаригт болсон шүүх хурлаар Палестиний ХАМАС бүлэглэлийг Египетийн нутаг дэвсгэрт үйл ажиллагаа явуулахыг хориглосон шийдвэр гаргажээ. Энэ тухай \"Аль-Арабия\" телевизид шүүхийн эх сурвалж мэдээлсэн байна. Египетийн төр засгийн үзэж буйгаар ХАМАС бол яах аргагүй террорист бүлэглэл. Тэднийг өмнө нь Египетийн нутаг дэвсгэрт үйл ажиллагаа явуулдаг \"Ансар Бейт аль-Макдис\" бүлэглэлийнхэнтэй нягт холбоотой ажилладаг гэдгийг баталсан нотолгоо гарч ирж байсан юм. Уг бүлэглэлийнхэн экс Ерөнхийлөгч Мухаммед Мурсиг түлхэн унагаснаас хойш болсон хэд хэдэн алан хядах ажиллагааг үйлдсэн гэдгээ хүлээж байсан гэх зэргээс үүдэн шүүх ХАМАС-ын асуудлыг тусгайлан хэлэлцээд дээрх шийдвэрийг гаргасан байна. 1 цаг 5 минутын өмнө undesten  \\n']"
            ]
          },
          "execution_count": 10,
          "metadata": {},
          "output_type": "execute_result"
        }
      ],
      "source": [
        "texts = []\n",
        "with open(\"news/news_01.txt\", \"r\") as f:\n",
        "    texts += f.readlines()\n",
        "texts[:10]"
      ]
    },
    {
      "cell_type": "code",
      "execution_count": 11,
      "metadata": {},
      "outputs": [
        {
          "data": {
            "text/plain": [
              "200"
            ]
          },
          "execution_count": 11,
          "metadata": {},
          "output_type": "execute_result"
        }
      ],
      "source": [
        "len(texts)"
      ]
    },
    {
      "cell_type": "code",
      "execution_count": 12,
      "metadata": {},
      "outputs": [
        {
          "data": {
            "text/plain": [
              "163357"
            ]
          },
          "execution_count": 12,
          "metadata": {},
          "output_type": "execute_result"
        }
      ],
      "source": [
        "sum(len(t) for t in texts[:100])"
      ]
    },
    {
      "cell_type": "code",
      "execution_count": 13,
      "metadata": {},
      "outputs": [
        {
          "name": "stderr",
          "output_type": "stream",
          "text": [
            "100%|██████████| 8/8 [00:00<00:00, 24.76it/s]\n",
            "100%|██████████| 158/158 [00:05<00:00, 28.55it/s]\n",
            "100%|██████████| 458/458 [00:14<00:00, 30.70it/s]\n",
            "100%|██████████| 858/858 [00:30<00:00, 28.46it/s]\n",
            "100%|██████████| 1358/1358 [00:44<00:00, 30.51it/s]\n"
          ]
        }
      ],
      "source": [
        "avg_values = []\n",
        "vocab_sizes = [150, 300, 600, 1000, 1500]\n",
        "for v_size in vocab_sizes:\n",
        "    mongol_tokenizer = BPETokenizer(v_size)\n",
        "    mongol_tokenizer.train(texts[:100])\n",
        "    avg_values.append(sum([len(mongol_tokenizer.tokenize(t)) for t in texts[:100]]) / 100)\n"
      ]
    },
    {
      "cell_type": "code",
      "execution_count": 14,
      "metadata": {},
      "outputs": [
        {
          "data": {
            "image/png": "[encoded data removed]",
            "text/plain": [
              "<Figure size 640x480 with 1 Axes>"
            ]
          },
          "metadata": {},
          "output_type": "display_data"
        }
      ],
      "source": [
        "import matplotlib.pyplot as plt\n",
        "\n",
        "plt.ylabel(\"Average length of tokenized tweet\")\n",
        "plt.xlabel(\"Vocabular size\")\n",
        "plt.plot(vocab_sizes, avg_values)\n",
        "plt.scatter(vocab_sizes, avg_values)\n",
        "plt.show()"
      ]
    },
    {
      "cell_type": "code",
      "execution_count": 15,
      "metadata": {},
      "outputs": [
        {
          "data": {
            "text/plain": [
              "['хаан',\n",
              " 'хэмжээг',\n",
              " 'иар',\n",
              " 'Гэхдээ',\n",
              " 'мэргэжлийн',\n",
              " 'адаг',\n",
              " 'үйлдэл',\n",
              " 'өөрс',\n",
              " 'Үндэсний',\n",
              " 'өөрчл',\n",
              " 'Ч.Гэр',\n",
              " 'Ч.Гэрэл',\n",
              " 'Ч.Гэрэлтуяа',\n",
              " 'тохиолд',\n",
              " 'байшин',\n",
              " 'үсэг',\n",
              " 'орны',\n",
              " 'бичиг',\n",
              " 'байгууллага,',\n",
              " 'дөрв',\n",
              " 'алж',\n",
              " 'эхэлсэн',\n",
              " 'хугацаанд',\n",
              " 'Сонг',\n",
              " 'дээрх',\n",
              " 'өнгөр',\n",
              " 'сурвалж',\n",
              " 'эрүүл',\n",
              " 'шилж',\n",
              " 'холбог',\n",
              " 'хийл',\n",
              " 'тайл',\n",
              " 'бүрд',\n",
              " 'ёстой',\n",
              " 'ьсан',\n",
              " 'дад',\n",
              " 'салбарын',\n",
              " 'байн',\n",
              " 'сонирхол',\n",
              " 'de',\n",
              " 'бололтой',\n",
              " 'оноос',\n",
              " 'Их',\n",
              " 'Наран',\n",
              " 'оно',\n",
              " 'оролцох',\n",
              " '35',\n",
              " 'Д.Жан',\n",
              " 'Д.Жансэн',\n",
              " 'Д.Жансэнм',\n",
              " 'турш',\n",
              " 'хэргийн',\n",
              " 'хэсэг',\n",
              " 'сургуулийн',\n",
              " 'цах',\n",
              " 'тарх',\n",
              " 'зураг',\n",
              " 'Энэхүү',\n",
              " 'аль',\n",
              " 'гээс',\n",
              " 'санд',\n",
              " 'этг',\n",
              " 'машин',\n",
              " 'АН',\n",
              " 'мэдээлэл,',\n",
              " 'байгуулж',\n",
              " 'охин',\n",
              " 'дүгн',\n",
              " 'хяналтын',\n",
              " 'шаг',\n",
              " 'ац',\n",
              " 'лиг',\n",
              " 'орчны',\n",
              " 'мэдээллийг',\n",
              " 'ажлыг',\n",
              " 'гэц',\n",
              " 'лэж',\n",
              " 'хэрэгсэл',\n",
              " 'хэсэгт',\n",
              " 'чу',\n",
              " 'наад',\n",
              " 'Сүх',\n",
              " 'Сүхбаатар',\n",
              " 'өвчнөөс',\n",
              " 'цогцолбор',\n",
              " 'цэн',\n",
              " 'мансуур',\n",
              " 'байгуулах',\n",
              " 'хав',\n",
              " '\"Сэй',\n",
              " 'ОХ',\n",
              " 'оёлын',\n",
              " 'хамтлагийн',\n",
              " 'мэдрэл',\n",
              " 'ядар',\n",
              " 'вшин',\n",
              " 'бага',\n",
              " 'хүлээ',\n",
              " 'хүлээж',\n",
              " 'эвлэл']"
            ]
          },
          "execution_count": 15,
          "metadata": {},
          "output_type": "execute_result"
        }
      ],
      "source": [
        "mongol_tokenizer.vocab[-100:]"
      ]
    },
    {
      "cell_type": "markdown",
      "metadata": {},
      "source": [
        "average length of sentence is longer and also has more structured and official style. That's why a lot of words can be reduced using tokens. In addition, this dataset is corpus of news, which use official language with a lot of repetitions of tokens "
      ]
    }
  ],
  "metadata": {
    "colab": {
      "provenance": [],
      "toc_visible": true
    },
    "kernelspec": {
      "display_name": "Python 3",
      "name": "python3"
    },
    "language_info": {
      "codemirror_mode": {
        "name": "ipython",
        "version": 3
      },
      "file_extension": ".py",
      "mimetype": "text/x-python",
      "name": "python",
      "nbconvert_exporter": "python",
      "pygments_lexer": "ipython3",
      "version": "3.12.0"
    }
  },
  "nbformat": 4,
  "nbformat_minor": 0
}
